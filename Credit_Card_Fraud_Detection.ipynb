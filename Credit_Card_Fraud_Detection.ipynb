{
  "nbformat": 4,
  "nbformat_minor": 0,
  "metadata": {
    "colab": {
      "provenance": []
    },
    "kernelspec": {
      "name": "python3",
      "display_name": "Python 3"
    },
    "language_info": {
      "name": "python"
    }
  },
  "cells": [
    {
      "cell_type": "code",
      "source": [],
      "metadata": {
        "id": "t8KuuS7-qbxt"
      },
      "execution_count": null,
      "outputs": []
    },
    {
      "cell_type": "code",
      "source": [
        "import numpy as np\n",
        "import pandas as pd\n",
        "import matplotlib.pyplot as plt\n",
        "import seaborn as sns\n",
        "%matplotlib inline"
      ],
      "metadata": {
        "id": "GpTGsTfGs28i"
      },
      "execution_count": null,
      "outputs": []
    },
    {
      "cell_type": "code",
      "source": [
        "train = pd.read_csv('fraudTrain.csv')\n",
        "test = pd.read_csv('fraudTest.csv')\n",
        "test.head()"
      ],
      "metadata": {
        "colab": {
          "base_uri": "https://localhost:8080/",
          "height": 525
        },
        "id": "vuLWMziUs65l",
        "outputId": "741524c1-6395-41ae-8da4-3a9784f4ffe6"
      },
      "execution_count": null,
      "outputs": [
        {
          "output_type": "execute_result",
          "data": {
            "text/plain": [
              "   Unnamed: 0 trans_date_trans_time            cc_num  \\\n",
              "0           0   2020-06-21 12:14:25  2291163933867244   \n",
              "1           1   2020-06-21 12:14:33  3573030041201292   \n",
              "2           2   2020-06-21 12:14:53  3598215285024754   \n",
              "3           3   2020-06-21 12:15:15  3591919803438423   \n",
              "4           4   2020-06-21 12:15:17  3526826139003047   \n",
              "\n",
              "                               merchant        category    amt   first  \\\n",
              "0                 fraud_Kirlin and Sons   personal_care   2.86    Jeff   \n",
              "1                  fraud_Sporer-Keebler   personal_care  29.84  Joanne   \n",
              "2  fraud_Swaniawski, Nitzsche and Welch  health_fitness  41.28  Ashley   \n",
              "3                     fraud_Haley Group        misc_pos  60.05   Brian   \n",
              "4                 fraud_Johnston-Casper          travel   3.19  Nathan   \n",
              "\n",
              "       last gender                       street  ...      lat      long  \\\n",
              "0   Elliott      M            351 Darlene Green  ...  33.9659  -80.9355   \n",
              "1  Williams      F             3638 Marsh Union  ...  40.3207 -110.4360   \n",
              "2     Lopez      F         9333 Valentine Point  ...  40.6729  -73.5365   \n",
              "3  Williams      M  32941 Krystal Mill Apt. 552  ...  28.5697  -80.8191   \n",
              "4    Massey      M     5783 Evan Roads Apt. 465  ...  44.2529  -85.0170   \n",
              "\n",
              "   city_pop                     job         dob  \\\n",
              "0  333497.0     Mechanical engineer  1968-03-19   \n",
              "1     302.0  Sales professional, IT  1990-01-17   \n",
              "2   34496.0       Librarian, public  1970-10-21   \n",
              "3   54767.0            Set designer  1987-07-25   \n",
              "4    1126.0      Furniture designer  1955-07-06   \n",
              "\n",
              "                          trans_num     unix_time  merch_lat  merch_long  \\\n",
              "0  2da90c7d74bd46a0caf3777415b3ebd3  1.371817e+09  33.986391  -81.200714   \n",
              "1  324cc204407e99f51b0d6ca0055005e7  1.371817e+09  39.450498 -109.960431   \n",
              "2  c81755dbbbea9d5c77f094348a7579be  1.371817e+09  40.495810  -74.196111   \n",
              "3  2159175b9efe66dc301f149d3d5abf8c  1.371817e+09  28.812398  -80.883061   \n",
              "4  57ff021bd3f328f8738bb535c302a31b  1.371817e+09  44.959148  -85.884734   \n",
              "\n",
              "   is_fraud  \n",
              "0       0.0  \n",
              "1       0.0  \n",
              "2       0.0  \n",
              "3       0.0  \n",
              "4       0.0  \n",
              "\n",
              "[5 rows x 23 columns]"
            ],
            "text/html": [
              "\n",
              "  <div id=\"df-9e589d25-8496-43d8-8ae4-7b187279ac55\">\n",
              "    <div class=\"colab-df-container\">\n",
              "      <div>\n",
              "<style scoped>\n",
              "    .dataframe tbody tr th:only-of-type {\n",
              "        vertical-align: middle;\n",
              "    }\n",
              "\n",
              "    .dataframe tbody tr th {\n",
              "        vertical-align: top;\n",
              "    }\n",
              "\n",
              "    .dataframe thead th {\n",
              "        text-align: right;\n",
              "    }\n",
              "</style>\n",
              "<table border=\"1\" class=\"dataframe\">\n",
              "  <thead>\n",
              "    <tr style=\"text-align: right;\">\n",
              "      <th></th>\n",
              "      <th>Unnamed: 0</th>\n",
              "      <th>trans_date_trans_time</th>\n",
              "      <th>cc_num</th>\n",
              "      <th>merchant</th>\n",
              "      <th>category</th>\n",
              "      <th>amt</th>\n",
              "      <th>first</th>\n",
              "      <th>last</th>\n",
              "      <th>gender</th>\n",
              "      <th>street</th>\n",
              "      <th>...</th>\n",
              "      <th>lat</th>\n",
              "      <th>long</th>\n",
              "      <th>city_pop</th>\n",
              "      <th>job</th>\n",
              "      <th>dob</th>\n",
              "      <th>trans_num</th>\n",
              "      <th>unix_time</th>\n",
              "      <th>merch_lat</th>\n",
              "      <th>merch_long</th>\n",
              "      <th>is_fraud</th>\n",
              "    </tr>\n",
              "  </thead>\n",
              "  <tbody>\n",
              "    <tr>\n",
              "      <th>0</th>\n",
              "      <td>0</td>\n",
              "      <td>2020-06-21 12:14:25</td>\n",
              "      <td>2291163933867244</td>\n",
              "      <td>fraud_Kirlin and Sons</td>\n",
              "      <td>personal_care</td>\n",
              "      <td>2.86</td>\n",
              "      <td>Jeff</td>\n",
              "      <td>Elliott</td>\n",
              "      <td>M</td>\n",
              "      <td>351 Darlene Green</td>\n",
              "      <td>...</td>\n",
              "      <td>33.9659</td>\n",
              "      <td>-80.9355</td>\n",
              "      <td>333497.0</td>\n",
              "      <td>Mechanical engineer</td>\n",
              "      <td>1968-03-19</td>\n",
              "      <td>2da90c7d74bd46a0caf3777415b3ebd3</td>\n",
              "      <td>1.371817e+09</td>\n",
              "      <td>33.986391</td>\n",
              "      <td>-81.200714</td>\n",
              "      <td>0.0</td>\n",
              "    </tr>\n",
              "    <tr>\n",
              "      <th>1</th>\n",
              "      <td>1</td>\n",
              "      <td>2020-06-21 12:14:33</td>\n",
              "      <td>3573030041201292</td>\n",
              "      <td>fraud_Sporer-Keebler</td>\n",
              "      <td>personal_care</td>\n",
              "      <td>29.84</td>\n",
              "      <td>Joanne</td>\n",
              "      <td>Williams</td>\n",
              "      <td>F</td>\n",
              "      <td>3638 Marsh Union</td>\n",
              "      <td>...</td>\n",
              "      <td>40.3207</td>\n",
              "      <td>-110.4360</td>\n",
              "      <td>302.0</td>\n",
              "      <td>Sales professional, IT</td>\n",
              "      <td>1990-01-17</td>\n",
              "      <td>324cc204407e99f51b0d6ca0055005e7</td>\n",
              "      <td>1.371817e+09</td>\n",
              "      <td>39.450498</td>\n",
              "      <td>-109.960431</td>\n",
              "      <td>0.0</td>\n",
              "    </tr>\n",
              "    <tr>\n",
              "      <th>2</th>\n",
              "      <td>2</td>\n",
              "      <td>2020-06-21 12:14:53</td>\n",
              "      <td>3598215285024754</td>\n",
              "      <td>fraud_Swaniawski, Nitzsche and Welch</td>\n",
              "      <td>health_fitness</td>\n",
              "      <td>41.28</td>\n",
              "      <td>Ashley</td>\n",
              "      <td>Lopez</td>\n",
              "      <td>F</td>\n",
              "      <td>9333 Valentine Point</td>\n",
              "      <td>...</td>\n",
              "      <td>40.6729</td>\n",
              "      <td>-73.5365</td>\n",
              "      <td>34496.0</td>\n",
              "      <td>Librarian, public</td>\n",
              "      <td>1970-10-21</td>\n",
              "      <td>c81755dbbbea9d5c77f094348a7579be</td>\n",
              "      <td>1.371817e+09</td>\n",
              "      <td>40.495810</td>\n",
              "      <td>-74.196111</td>\n",
              "      <td>0.0</td>\n",
              "    </tr>\n",
              "    <tr>\n",
              "      <th>3</th>\n",
              "      <td>3</td>\n",
              "      <td>2020-06-21 12:15:15</td>\n",
              "      <td>3591919803438423</td>\n",
              "      <td>fraud_Haley Group</td>\n",
              "      <td>misc_pos</td>\n",
              "      <td>60.05</td>\n",
              "      <td>Brian</td>\n",
              "      <td>Williams</td>\n",
              "      <td>M</td>\n",
              "      <td>32941 Krystal Mill Apt. 552</td>\n",
              "      <td>...</td>\n",
              "      <td>28.5697</td>\n",
              "      <td>-80.8191</td>\n",
              "      <td>54767.0</td>\n",
              "      <td>Set designer</td>\n",
              "      <td>1987-07-25</td>\n",
              "      <td>2159175b9efe66dc301f149d3d5abf8c</td>\n",
              "      <td>1.371817e+09</td>\n",
              "      <td>28.812398</td>\n",
              "      <td>-80.883061</td>\n",
              "      <td>0.0</td>\n",
              "    </tr>\n",
              "    <tr>\n",
              "      <th>4</th>\n",
              "      <td>4</td>\n",
              "      <td>2020-06-21 12:15:17</td>\n",
              "      <td>3526826139003047</td>\n",
              "      <td>fraud_Johnston-Casper</td>\n",
              "      <td>travel</td>\n",
              "      <td>3.19</td>\n",
              "      <td>Nathan</td>\n",
              "      <td>Massey</td>\n",
              "      <td>M</td>\n",
              "      <td>5783 Evan Roads Apt. 465</td>\n",
              "      <td>...</td>\n",
              "      <td>44.2529</td>\n",
              "      <td>-85.0170</td>\n",
              "      <td>1126.0</td>\n",
              "      <td>Furniture designer</td>\n",
              "      <td>1955-07-06</td>\n",
              "      <td>57ff021bd3f328f8738bb535c302a31b</td>\n",
              "      <td>1.371817e+09</td>\n",
              "      <td>44.959148</td>\n",
              "      <td>-85.884734</td>\n",
              "      <td>0.0</td>\n",
              "    </tr>\n",
              "  </tbody>\n",
              "</table>\n",
              "<p>5 rows × 23 columns</p>\n",
              "</div>\n",
              "      <button class=\"colab-df-convert\" onclick=\"convertToInteractive('df-9e589d25-8496-43d8-8ae4-7b187279ac55')\"\n",
              "              title=\"Convert this dataframe to an interactive table.\"\n",
              "              style=\"display:none;\">\n",
              "        \n",
              "  <svg xmlns=\"http://www.w3.org/2000/svg\" height=\"24px\"viewBox=\"0 0 24 24\"\n",
              "       width=\"24px\">\n",
              "    <path d=\"M0 0h24v24H0V0z\" fill=\"none\"/>\n",
              "    <path d=\"M18.56 5.44l.94 2.06.94-2.06 2.06-.94-2.06-.94-.94-2.06-.94 2.06-2.06.94zm-11 1L8.5 8.5l.94-2.06 2.06-.94-2.06-.94L8.5 2.5l-.94 2.06-2.06.94zm10 10l.94 2.06.94-2.06 2.06-.94-2.06-.94-.94-2.06-.94 2.06-2.06.94z\"/><path d=\"M17.41 7.96l-1.37-1.37c-.4-.4-.92-.59-1.43-.59-.52 0-1.04.2-1.43.59L10.3 9.45l-7.72 7.72c-.78.78-.78 2.05 0 2.83L4 21.41c.39.39.9.59 1.41.59.51 0 1.02-.2 1.41-.59l7.78-7.78 2.81-2.81c.8-.78.8-2.07 0-2.86zM5.41 20L4 18.59l7.72-7.72 1.47 1.35L5.41 20z\"/>\n",
              "  </svg>\n",
              "      </button>\n",
              "      \n",
              "  <style>\n",
              "    .colab-df-container {\n",
              "      display:flex;\n",
              "      flex-wrap:wrap;\n",
              "      gap: 12px;\n",
              "    }\n",
              "\n",
              "    .colab-df-convert {\n",
              "      background-color: #E8F0FE;\n",
              "      border: none;\n",
              "      border-radius: 50%;\n",
              "      cursor: pointer;\n",
              "      display: none;\n",
              "      fill: #1967D2;\n",
              "      height: 32px;\n",
              "      padding: 0 0 0 0;\n",
              "      width: 32px;\n",
              "    }\n",
              "\n",
              "    .colab-df-convert:hover {\n",
              "      background-color: #E2EBFA;\n",
              "      box-shadow: 0px 1px 2px rgba(60, 64, 67, 0.3), 0px 1px 3px 1px rgba(60, 64, 67, 0.15);\n",
              "      fill: #174EA6;\n",
              "    }\n",
              "\n",
              "    [theme=dark] .colab-df-convert {\n",
              "      background-color: #3B4455;\n",
              "      fill: #D2E3FC;\n",
              "    }\n",
              "\n",
              "    [theme=dark] .colab-df-convert:hover {\n",
              "      background-color: #434B5C;\n",
              "      box-shadow: 0px 1px 3px 1px rgba(0, 0, 0, 0.15);\n",
              "      filter: drop-shadow(0px 1px 2px rgba(0, 0, 0, 0.3));\n",
              "      fill: #FFFFFF;\n",
              "    }\n",
              "  </style>\n",
              "\n",
              "      <script>\n",
              "        const buttonEl =\n",
              "          document.querySelector('#df-9e589d25-8496-43d8-8ae4-7b187279ac55 button.colab-df-convert');\n",
              "        buttonEl.style.display =\n",
              "          google.colab.kernel.accessAllowed ? 'block' : 'none';\n",
              "\n",
              "        async function convertToInteractive(key) {\n",
              "          const element = document.querySelector('#df-9e589d25-8496-43d8-8ae4-7b187279ac55');\n",
              "          const dataTable =\n",
              "            await google.colab.kernel.invokeFunction('convertToInteractive',\n",
              "                                                     [key], {});\n",
              "          if (!dataTable) return;\n",
              "\n",
              "          const docLinkHtml = 'Like what you see? Visit the ' +\n",
              "            '<a target=\"_blank\" href=https://colab.research.google.com/notebooks/data_table.ipynb>data table notebook</a>'\n",
              "            + ' to learn more about interactive tables.';\n",
              "          element.innerHTML = '';\n",
              "          dataTable['output_type'] = 'display_data';\n",
              "          await google.colab.output.renderOutput(dataTable, element);\n",
              "          const docLink = document.createElement('div');\n",
              "          docLink.innerHTML = docLinkHtml;\n",
              "          element.appendChild(docLink);\n",
              "        }\n",
              "      </script>\n",
              "    </div>\n",
              "  </div>\n",
              "  "
            ]
          },
          "metadata": {},
          "execution_count": 25
        }
      ]
    },
    {
      "cell_type": "code",
      "source": [
        "print(test.shape),print(train.shape)"
      ],
      "metadata": {
        "colab": {
          "base_uri": "https://localhost:8080/"
        },
        "id": "4vH6FCiktF_U",
        "outputId": "54a50a6d-3bc7-4534-9842-4af3d7926b1e"
      },
      "execution_count": null,
      "outputs": [
        {
          "output_type": "stream",
          "name": "stdout",
          "text": [
            "(19466, 23)\n",
            "(7815, 23)\n"
          ]
        },
        {
          "output_type": "execute_result",
          "data": {
            "text/plain": [
              "(None, None)"
            ]
          },
          "metadata": {},
          "execution_count": 26
        }
      ]
    },
    {
      "cell_type": "code",
      "source": [
        "test.isnull().sum(), train.isnull().sum()"
      ],
      "metadata": {
        "colab": {
          "base_uri": "https://localhost:8080/"
        },
        "id": "9XBhS_hZtI5V",
        "outputId": "12b9b560-0f96-472e-ec2e-283985058b86"
      },
      "execution_count": null,
      "outputs": [
        {
          "output_type": "execute_result",
          "data": {
            "text/plain": [
              "(Unnamed: 0               0\n",
              " trans_date_trans_time    0\n",
              " cc_num                   0\n",
              " merchant                 0\n",
              " category                 0\n",
              " amt                      0\n",
              " first                    0\n",
              " last                     0\n",
              " gender                   0\n",
              " street                   0\n",
              " city                     1\n",
              " state                    1\n",
              " zip                      1\n",
              " lat                      1\n",
              " long                     1\n",
              " city_pop                 1\n",
              " job                      1\n",
              " dob                      1\n",
              " trans_num                1\n",
              " unix_time                1\n",
              " merch_lat                1\n",
              " merch_long               1\n",
              " is_fraud                 1\n",
              " dtype: int64, Unnamed: 0               0\n",
              " trans_date_trans_time    0\n",
              " cc_num                   0\n",
              " merchant                 0\n",
              " category                 0\n",
              " amt                      0\n",
              " first                    0\n",
              " last                     0\n",
              " gender                   1\n",
              " street                   1\n",
              " city                     1\n",
              " state                    1\n",
              " zip                      1\n",
              " lat                      1\n",
              " long                     1\n",
              " city_pop                 1\n",
              " job                      1\n",
              " dob                      1\n",
              " trans_num                1\n",
              " unix_time                1\n",
              " merch_lat                1\n",
              " merch_long               1\n",
              " is_fraud                 1\n",
              " dtype: int64)"
            ]
          },
          "metadata": {},
          "execution_count": 29
        }
      ]
    },
    {
      "cell_type": "code",
      "source": [
        "test.info(), train.info()"
      ],
      "metadata": {
        "colab": {
          "base_uri": "https://localhost:8080/"
        },
        "id": "Xs3k4DButPZz",
        "outputId": "4a16e93b-7f66-4dcd-fe6a-b52400a133d3"
      },
      "execution_count": null,
      "outputs": [
        {
          "output_type": "stream",
          "name": "stdout",
          "text": [
            "<class 'pandas.core.frame.DataFrame'>\n",
            "RangeIndex: 19466 entries, 0 to 19465\n",
            "Data columns (total 23 columns):\n",
            " #   Column                 Non-Null Count  Dtype  \n",
            "---  ------                 --------------  -----  \n",
            " 0   Unnamed: 0             19466 non-null  int64  \n",
            " 1   trans_date_trans_time  19466 non-null  object \n",
            " 2   cc_num                 19466 non-null  int64  \n",
            " 3   merchant               19466 non-null  object \n",
            " 4   category               19466 non-null  object \n",
            " 5   amt                    19466 non-null  float64\n",
            " 6   first                  19466 non-null  object \n",
            " 7   last                   19466 non-null  object \n",
            " 8   gender                 19466 non-null  object \n",
            " 9   street                 19466 non-null  object \n",
            " 10  city                   19465 non-null  object \n",
            " 11  state                  19465 non-null  object \n",
            " 12  zip                    19465 non-null  float64\n",
            " 13  lat                    19465 non-null  float64\n",
            " 14  long                   19465 non-null  float64\n",
            " 15  city_pop               19465 non-null  float64\n",
            " 16  job                    19465 non-null  object \n",
            " 17  dob                    19465 non-null  object \n",
            " 18  trans_num              19465 non-null  object \n",
            " 19  unix_time              19465 non-null  float64\n",
            " 20  merch_lat              19465 non-null  float64\n",
            " 21  merch_long             19465 non-null  float64\n",
            " 22  is_fraud               19465 non-null  float64\n",
            "dtypes: float64(9), int64(2), object(12)\n",
            "memory usage: 3.4+ MB\n",
            "<class 'pandas.core.frame.DataFrame'>\n",
            "RangeIndex: 7815 entries, 0 to 7814\n",
            "Data columns (total 23 columns):\n",
            " #   Column                 Non-Null Count  Dtype  \n",
            "---  ------                 --------------  -----  \n",
            " 0   Unnamed: 0             7815 non-null   int64  \n",
            " 1   trans_date_trans_time  7815 non-null   object \n",
            " 2   cc_num                 7815 non-null   int64  \n",
            " 3   merchant               7815 non-null   object \n",
            " 4   category               7815 non-null   object \n",
            " 5   amt                    7815 non-null   float64\n",
            " 6   first                  7815 non-null   object \n",
            " 7   last                   7815 non-null   object \n",
            " 8   gender                 7814 non-null   object \n",
            " 9   street                 7814 non-null   object \n",
            " 10  city                   7814 non-null   object \n",
            " 11  state                  7814 non-null   object \n",
            " 12  zip                    7814 non-null   float64\n",
            " 13  lat                    7814 non-null   float64\n",
            " 14  long                   7814 non-null   float64\n",
            " 15  city_pop               7814 non-null   float64\n",
            " 16  job                    7814 non-null   object \n",
            " 17  dob                    7814 non-null   object \n",
            " 18  trans_num              7814 non-null   object \n",
            " 19  unix_time              7814 non-null   float64\n",
            " 20  merch_lat              7814 non-null   float64\n",
            " 21  merch_long             7814 non-null   float64\n",
            " 22  is_fraud               7814 non-null   float64\n",
            "dtypes: float64(9), int64(2), object(12)\n",
            "memory usage: 1.4+ MB\n"
          ]
        },
        {
          "output_type": "execute_result",
          "data": {
            "text/plain": [
              "(None, None)"
            ]
          },
          "metadata": {},
          "execution_count": 28
        }
      ]
    },
    {
      "cell_type": "code",
      "source": [
        "train['trans_date_trans_time']=pd.to_datetime(train['trans_date_trans_time'])\n",
        "train['trans_date']=train['trans_date_trans_time'].dt.strftime('%Y-%m-%d')\n",
        "train['trans_date']=pd.to_datetime(train['trans_date'])\n",
        "train['dob']=pd.to_datetime(train['dob'])\n",
        "\n",
        "test['trans_date_trans_time']=pd.to_datetime(test['trans_date_trans_time'])\n",
        "test['trans_date']=test['trans_date_trans_time'].dt.strftime('%Y-%m-%d')\n",
        "test['trans_date']=pd.to_datetime(test['trans_date'])\n",
        "test['dob']=pd.to_datetime(test['dob'])"
      ],
      "metadata": {
        "id": "_kRcDGNjtP1O"
      },
      "execution_count": null,
      "outputs": []
    },
    {
      "cell_type": "code",
      "source": [
        "test.trans_date.head(),test.dob.head(),train.trans_date.head(),train.dob.head()"
      ],
      "metadata": {
        "colab": {
          "base_uri": "https://localhost:8080/"
        },
        "id": "f4Z-OXoLthiP",
        "outputId": "a4822148-ad77-4322-f66b-fb99dd824e38"
      },
      "execution_count": null,
      "outputs": [
        {
          "output_type": "execute_result",
          "data": {
            "text/plain": [
              "(0   2020-06-21\n",
              " 1   2020-06-21\n",
              " 2   2020-06-21\n",
              " 3   2020-06-21\n",
              " 4   2020-06-21\n",
              " Name: trans_date, dtype: datetime64[ns], 0   1968-03-19\n",
              " 1   1990-01-17\n",
              " 2   1970-10-21\n",
              " 3   1987-07-25\n",
              " 4   1955-07-06\n",
              " Name: dob, dtype: datetime64[ns], 0   2019-01-01\n",
              " 1   2019-01-01\n",
              " 2   2019-01-01\n",
              " 3   2019-01-01\n",
              " 4   2019-01-01\n",
              " Name: trans_date, dtype: datetime64[ns], 0   1988-03-09\n",
              " 1   1978-06-21\n",
              " 2   1962-01-19\n",
              " 3   1967-01-12\n",
              " 4   1986-03-28\n",
              " Name: dob, dtype: datetime64[ns])"
            ]
          },
          "metadata": {},
          "execution_count": 31
        }
      ]
    },
    {
      "cell_type": "code",
      "source": [
        "train.drop(\"Unnamed: 0\",axis=1,inplace=True)\n",
        "test.drop(\"Unnamed: 0\",axis=1,inplace=True)\n",
        "train.head()"
      ],
      "metadata": {
        "colab": {
          "base_uri": "https://localhost:8080/",
          "height": 577
        },
        "id": "NrmPl5Wztj1h",
        "outputId": "aa2db3a5-dba4-49ea-8106-2440dae60425"
      },
      "execution_count": null,
      "outputs": [
        {
          "output_type": "execute_result",
          "data": {
            "text/plain": [
              "  trans_date_trans_time            cc_num                            merchant  \\\n",
              "0   2019-01-01 00:00:18  2703186189652095          fraud_Rippin, Kub and Mann   \n",
              "1   2019-01-01 00:00:44      630423337322     fraud_Heller, Gutmann and Zieme   \n",
              "2   2019-01-01 00:00:51    38859492057661                fraud_Lind-Buckridge   \n",
              "3   2019-01-01 00:01:16  3534093764340240  fraud_Kutch, Hermiston and Farrell   \n",
              "4   2019-01-01 00:03:06   375534208663984                 fraud_Keeling-Crist   \n",
              "\n",
              "        category     amt      first     last gender  \\\n",
              "0       misc_net    4.97   Jennifer    Banks      F   \n",
              "1    grocery_pos  107.23  Stephanie     Gill      F   \n",
              "2  entertainment  220.11     Edward  Sanchez      M   \n",
              "3  gas_transport   45.00     Jeremy    White      M   \n",
              "4       misc_pos   41.96      Tyler   Garcia      M   \n",
              "\n",
              "                         street            city  ...      long  city_pop  \\\n",
              "0                561 Perry Cove  Moravian Falls  ...  -81.1781    3495.0   \n",
              "1  43039 Riley Greens Suite 393          Orient  ... -118.2105     149.0   \n",
              "2      594 White Dale Suite 530      Malad City  ... -112.2620    4154.0   \n",
              "3   9443 Cynthia Court Apt. 038         Boulder  ... -112.1138    1939.0   \n",
              "4              408 Bradley Rest        Doe Hill  ...  -79.4629      99.0   \n",
              "\n",
              "                                 job        dob  \\\n",
              "0          Psychologist, counselling 1988-03-09   \n",
              "1  Special educational needs teacher 1978-06-21   \n",
              "2        Nature conservation officer 1962-01-19   \n",
              "3                    Patent attorney 1967-01-12   \n",
              "4     Dance movement psychotherapist 1986-03-28   \n",
              "\n",
              "                          trans_num     unix_time  merch_lat  merch_long  \\\n",
              "0  0b242abb623afc578575680df30655b9  1.325376e+09  36.011293  -82.048315   \n",
              "1  1f76529f8574734946361c461b024d99  1.325376e+09  49.159047 -118.186462   \n",
              "2  a1a22d70485983eac12b5b88dad1cf95  1.325376e+09  43.150704 -112.154481   \n",
              "3  6b849c168bdad6f867558c3793159a81  1.325376e+09  47.034331 -112.561071   \n",
              "4  a41d7549acf90789359a9aa5346dcb46  1.325376e+09  38.674999  -78.632459   \n",
              "\n",
              "   is_fraud  trans_date  \n",
              "0       0.0  2019-01-01  \n",
              "1       0.0  2019-01-01  \n",
              "2       0.0  2019-01-01  \n",
              "3       0.0  2019-01-01  \n",
              "4       0.0  2019-01-01  \n",
              "\n",
              "[5 rows x 23 columns]"
            ],
            "text/html": [
              "\n",
              "  <div id=\"df-d3f3b148-4980-444b-8cc0-6180c1fa002d\">\n",
              "    <div class=\"colab-df-container\">\n",
              "      <div>\n",
              "<style scoped>\n",
              "    .dataframe tbody tr th:only-of-type {\n",
              "        vertical-align: middle;\n",
              "    }\n",
              "\n",
              "    .dataframe tbody tr th {\n",
              "        vertical-align: top;\n",
              "    }\n",
              "\n",
              "    .dataframe thead th {\n",
              "        text-align: right;\n",
              "    }\n",
              "</style>\n",
              "<table border=\"1\" class=\"dataframe\">\n",
              "  <thead>\n",
              "    <tr style=\"text-align: right;\">\n",
              "      <th></th>\n",
              "      <th>trans_date_trans_time</th>\n",
              "      <th>cc_num</th>\n",
              "      <th>merchant</th>\n",
              "      <th>category</th>\n",
              "      <th>amt</th>\n",
              "      <th>first</th>\n",
              "      <th>last</th>\n",
              "      <th>gender</th>\n",
              "      <th>street</th>\n",
              "      <th>city</th>\n",
              "      <th>...</th>\n",
              "      <th>long</th>\n",
              "      <th>city_pop</th>\n",
              "      <th>job</th>\n",
              "      <th>dob</th>\n",
              "      <th>trans_num</th>\n",
              "      <th>unix_time</th>\n",
              "      <th>merch_lat</th>\n",
              "      <th>merch_long</th>\n",
              "      <th>is_fraud</th>\n",
              "      <th>trans_date</th>\n",
              "    </tr>\n",
              "  </thead>\n",
              "  <tbody>\n",
              "    <tr>\n",
              "      <th>0</th>\n",
              "      <td>2019-01-01 00:00:18</td>\n",
              "      <td>2703186189652095</td>\n",
              "      <td>fraud_Rippin, Kub and Mann</td>\n",
              "      <td>misc_net</td>\n",
              "      <td>4.97</td>\n",
              "      <td>Jennifer</td>\n",
              "      <td>Banks</td>\n",
              "      <td>F</td>\n",
              "      <td>561 Perry Cove</td>\n",
              "      <td>Moravian Falls</td>\n",
              "      <td>...</td>\n",
              "      <td>-81.1781</td>\n",
              "      <td>3495.0</td>\n",
              "      <td>Psychologist, counselling</td>\n",
              "      <td>1988-03-09</td>\n",
              "      <td>0b242abb623afc578575680df30655b9</td>\n",
              "      <td>1.325376e+09</td>\n",
              "      <td>36.011293</td>\n",
              "      <td>-82.048315</td>\n",
              "      <td>0.0</td>\n",
              "      <td>2019-01-01</td>\n",
              "    </tr>\n",
              "    <tr>\n",
              "      <th>1</th>\n",
              "      <td>2019-01-01 00:00:44</td>\n",
              "      <td>630423337322</td>\n",
              "      <td>fraud_Heller, Gutmann and Zieme</td>\n",
              "      <td>grocery_pos</td>\n",
              "      <td>107.23</td>\n",
              "      <td>Stephanie</td>\n",
              "      <td>Gill</td>\n",
              "      <td>F</td>\n",
              "      <td>43039 Riley Greens Suite 393</td>\n",
              "      <td>Orient</td>\n",
              "      <td>...</td>\n",
              "      <td>-118.2105</td>\n",
              "      <td>149.0</td>\n",
              "      <td>Special educational needs teacher</td>\n",
              "      <td>1978-06-21</td>\n",
              "      <td>1f76529f8574734946361c461b024d99</td>\n",
              "      <td>1.325376e+09</td>\n",
              "      <td>49.159047</td>\n",
              "      <td>-118.186462</td>\n",
              "      <td>0.0</td>\n",
              "      <td>2019-01-01</td>\n",
              "    </tr>\n",
              "    <tr>\n",
              "      <th>2</th>\n",
              "      <td>2019-01-01 00:00:51</td>\n",
              "      <td>38859492057661</td>\n",
              "      <td>fraud_Lind-Buckridge</td>\n",
              "      <td>entertainment</td>\n",
              "      <td>220.11</td>\n",
              "      <td>Edward</td>\n",
              "      <td>Sanchez</td>\n",
              "      <td>M</td>\n",
              "      <td>594 White Dale Suite 530</td>\n",
              "      <td>Malad City</td>\n",
              "      <td>...</td>\n",
              "      <td>-112.2620</td>\n",
              "      <td>4154.0</td>\n",
              "      <td>Nature conservation officer</td>\n",
              "      <td>1962-01-19</td>\n",
              "      <td>a1a22d70485983eac12b5b88dad1cf95</td>\n",
              "      <td>1.325376e+09</td>\n",
              "      <td>43.150704</td>\n",
              "      <td>-112.154481</td>\n",
              "      <td>0.0</td>\n",
              "      <td>2019-01-01</td>\n",
              "    </tr>\n",
              "    <tr>\n",
              "      <th>3</th>\n",
              "      <td>2019-01-01 00:01:16</td>\n",
              "      <td>3534093764340240</td>\n",
              "      <td>fraud_Kutch, Hermiston and Farrell</td>\n",
              "      <td>gas_transport</td>\n",
              "      <td>45.00</td>\n",
              "      <td>Jeremy</td>\n",
              "      <td>White</td>\n",
              "      <td>M</td>\n",
              "      <td>9443 Cynthia Court Apt. 038</td>\n",
              "      <td>Boulder</td>\n",
              "      <td>...</td>\n",
              "      <td>-112.1138</td>\n",
              "      <td>1939.0</td>\n",
              "      <td>Patent attorney</td>\n",
              "      <td>1967-01-12</td>\n",
              "      <td>6b849c168bdad6f867558c3793159a81</td>\n",
              "      <td>1.325376e+09</td>\n",
              "      <td>47.034331</td>\n",
              "      <td>-112.561071</td>\n",
              "      <td>0.0</td>\n",
              "      <td>2019-01-01</td>\n",
              "    </tr>\n",
              "    <tr>\n",
              "      <th>4</th>\n",
              "      <td>2019-01-01 00:03:06</td>\n",
              "      <td>375534208663984</td>\n",
              "      <td>fraud_Keeling-Crist</td>\n",
              "      <td>misc_pos</td>\n",
              "      <td>41.96</td>\n",
              "      <td>Tyler</td>\n",
              "      <td>Garcia</td>\n",
              "      <td>M</td>\n",
              "      <td>408 Bradley Rest</td>\n",
              "      <td>Doe Hill</td>\n",
              "      <td>...</td>\n",
              "      <td>-79.4629</td>\n",
              "      <td>99.0</td>\n",
              "      <td>Dance movement psychotherapist</td>\n",
              "      <td>1986-03-28</td>\n",
              "      <td>a41d7549acf90789359a9aa5346dcb46</td>\n",
              "      <td>1.325376e+09</td>\n",
              "      <td>38.674999</td>\n",
              "      <td>-78.632459</td>\n",
              "      <td>0.0</td>\n",
              "      <td>2019-01-01</td>\n",
              "    </tr>\n",
              "  </tbody>\n",
              "</table>\n",
              "<p>5 rows × 23 columns</p>\n",
              "</div>\n",
              "      <button class=\"colab-df-convert\" onclick=\"convertToInteractive('df-d3f3b148-4980-444b-8cc0-6180c1fa002d')\"\n",
              "              title=\"Convert this dataframe to an interactive table.\"\n",
              "              style=\"display:none;\">\n",
              "        \n",
              "  <svg xmlns=\"http://www.w3.org/2000/svg\" height=\"24px\"viewBox=\"0 0 24 24\"\n",
              "       width=\"24px\">\n",
              "    <path d=\"M0 0h24v24H0V0z\" fill=\"none\"/>\n",
              "    <path d=\"M18.56 5.44l.94 2.06.94-2.06 2.06-.94-2.06-.94-.94-2.06-.94 2.06-2.06.94zm-11 1L8.5 8.5l.94-2.06 2.06-.94-2.06-.94L8.5 2.5l-.94 2.06-2.06.94zm10 10l.94 2.06.94-2.06 2.06-.94-2.06-.94-.94-2.06-.94 2.06-2.06.94z\"/><path d=\"M17.41 7.96l-1.37-1.37c-.4-.4-.92-.59-1.43-.59-.52 0-1.04.2-1.43.59L10.3 9.45l-7.72 7.72c-.78.78-.78 2.05 0 2.83L4 21.41c.39.39.9.59 1.41.59.51 0 1.02-.2 1.41-.59l7.78-7.78 2.81-2.81c.8-.78.8-2.07 0-2.86zM5.41 20L4 18.59l7.72-7.72 1.47 1.35L5.41 20z\"/>\n",
              "  </svg>\n",
              "      </button>\n",
              "      \n",
              "  <style>\n",
              "    .colab-df-container {\n",
              "      display:flex;\n",
              "      flex-wrap:wrap;\n",
              "      gap: 12px;\n",
              "    }\n",
              "\n",
              "    .colab-df-convert {\n",
              "      background-color: #E8F0FE;\n",
              "      border: none;\n",
              "      border-radius: 50%;\n",
              "      cursor: pointer;\n",
              "      display: none;\n",
              "      fill: #1967D2;\n",
              "      height: 32px;\n",
              "      padding: 0 0 0 0;\n",
              "      width: 32px;\n",
              "    }\n",
              "\n",
              "    .colab-df-convert:hover {\n",
              "      background-color: #E2EBFA;\n",
              "      box-shadow: 0px 1px 2px rgba(60, 64, 67, 0.3), 0px 1px 3px 1px rgba(60, 64, 67, 0.15);\n",
              "      fill: #174EA6;\n",
              "    }\n",
              "\n",
              "    [theme=dark] .colab-df-convert {\n",
              "      background-color: #3B4455;\n",
              "      fill: #D2E3FC;\n",
              "    }\n",
              "\n",
              "    [theme=dark] .colab-df-convert:hover {\n",
              "      background-color: #434B5C;\n",
              "      box-shadow: 0px 1px 3px 1px rgba(0, 0, 0, 0.15);\n",
              "      filter: drop-shadow(0px 1px 2px rgba(0, 0, 0, 0.3));\n",
              "      fill: #FFFFFF;\n",
              "    }\n",
              "  </style>\n",
              "\n",
              "      <script>\n",
              "        const buttonEl =\n",
              "          document.querySelector('#df-d3f3b148-4980-444b-8cc0-6180c1fa002d button.colab-df-convert');\n",
              "        buttonEl.style.display =\n",
              "          google.colab.kernel.accessAllowed ? 'block' : 'none';\n",
              "\n",
              "        async function convertToInteractive(key) {\n",
              "          const element = document.querySelector('#df-d3f3b148-4980-444b-8cc0-6180c1fa002d');\n",
              "          const dataTable =\n",
              "            await google.colab.kernel.invokeFunction('convertToInteractive',\n",
              "                                                     [key], {});\n",
              "          if (!dataTable) return;\n",
              "\n",
              "          const docLinkHtml = 'Like what you see? Visit the ' +\n",
              "            '<a target=\"_blank\" href=https://colab.research.google.com/notebooks/data_table.ipynb>data table notebook</a>'\n",
              "            + ' to learn more about interactive tables.';\n",
              "          element.innerHTML = '';\n",
              "          dataTable['output_type'] = 'display_data';\n",
              "          await google.colab.output.renderOutput(dataTable, element);\n",
              "          const docLink = document.createElement('div');\n",
              "          docLink.innerHTML = docLinkHtml;\n",
              "          element.appendChild(docLink);\n",
              "        }\n",
              "      </script>\n",
              "    </div>\n",
              "  </div>\n",
              "  "
            ]
          },
          "metadata": {},
          "execution_count": 32
        }
      ]
    },
    {
      "cell_type": "code",
      "source": [
        "total = pd.concat([test,train])\n",
        "total.info()"
      ],
      "metadata": {
        "colab": {
          "base_uri": "https://localhost:8080/"
        },
        "id": "xtkjR7AptmYA",
        "outputId": "a8cdd949-833c-4c95-8465-1e02ac662133"
      },
      "execution_count": null,
      "outputs": [
        {
          "output_type": "stream",
          "name": "stdout",
          "text": [
            "<class 'pandas.core.frame.DataFrame'>\n",
            "Int64Index: 27281 entries, 0 to 7814\n",
            "Data columns (total 23 columns):\n",
            " #   Column                 Non-Null Count  Dtype         \n",
            "---  ------                 --------------  -----         \n",
            " 0   trans_date_trans_time  27281 non-null  datetime64[ns]\n",
            " 1   cc_num                 27281 non-null  int64         \n",
            " 2   merchant               27281 non-null  object        \n",
            " 3   category               27281 non-null  object        \n",
            " 4   amt                    27281 non-null  float64       \n",
            " 5   first                  27281 non-null  object        \n",
            " 6   last                   27281 non-null  object        \n",
            " 7   gender                 27280 non-null  object        \n",
            " 8   street                 27280 non-null  object        \n",
            " 9   city                   27279 non-null  object        \n",
            " 10  state                  27279 non-null  object        \n",
            " 11  zip                    27279 non-null  float64       \n",
            " 12  lat                    27279 non-null  float64       \n",
            " 13  long                   27279 non-null  float64       \n",
            " 14  city_pop               27279 non-null  float64       \n",
            " 15  job                    27279 non-null  object        \n",
            " 16  dob                    27279 non-null  datetime64[ns]\n",
            " 17  trans_num              27279 non-null  object        \n",
            " 18  unix_time              27279 non-null  float64       \n",
            " 19  merch_lat              27279 non-null  float64       \n",
            " 20  merch_long             27279 non-null  float64       \n",
            " 21  is_fraud               27279 non-null  float64       \n",
            " 22  trans_date             27281 non-null  datetime64[ns]\n",
            "dtypes: datetime64[ns](3), float64(9), int64(1), object(10)\n",
            "memory usage: 5.0+ MB\n"
          ]
        }
      ]
    },
    {
      "cell_type": "code",
      "source": [
        "total[\"is_fraud_cat\"]=total.is_fraud.apply(lambda x: \"T\" if x==1 else \"F\")\n",
        "total[\"is_fraud_cat\"].astype(\"object\")"
      ],
      "metadata": {
        "colab": {
          "base_uri": "https://localhost:8080/"
        },
        "id": "KK8MtopgtpYg",
        "outputId": "096beca7-c651-45c7-ae37-efd69476cc6d"
      },
      "execution_count": null,
      "outputs": [
        {
          "output_type": "execute_result",
          "data": {
            "text/plain": [
              "0       F\n",
              "1       F\n",
              "2       F\n",
              "3       F\n",
              "4       F\n",
              "       ..\n",
              "7810    F\n",
              "7811    F\n",
              "7812    F\n",
              "7813    F\n",
              "7814    F\n",
              "Name: is_fraud_cat, Length: 27281, dtype: object"
            ]
          },
          "metadata": {},
          "execution_count": 34
        }
      ]
    },
    {
      "cell_type": "code",
      "source": [
        "totalcat=total.select_dtypes(include=['object'])"
      ],
      "metadata": {
        "id": "5lFk6e2ltsTM"
      },
      "execution_count": null,
      "outputs": []
    },
    {
      "cell_type": "code",
      "source": [
        "total[totalcat.columns]"
      ],
      "metadata": {
        "colab": {
          "base_uri": "https://localhost:8080/",
          "height": 922
        },
        "id": "47xqw9XEtu2f",
        "outputId": "8bee50cf-5e69-4208-a7c2-50b957f6f07c"
      },
      "execution_count": null,
      "outputs": [
        {
          "output_type": "execute_result",
          "data": {
            "text/plain": [
              "                                  merchant        category    first      last  \\\n",
              "0                    fraud_Kirlin and Sons   personal_care     Jeff   Elliott   \n",
              "1                     fraud_Sporer-Keebler   personal_care   Joanne  Williams   \n",
              "2     fraud_Swaniawski, Nitzsche and Welch  health_fitness   Ashley     Lopez   \n",
              "3                        fraud_Haley Group        misc_pos    Brian  Williams   \n",
              "4                    fraud_Johnston-Casper          travel   Nathan    Massey   \n",
              "...                                    ...             ...      ...       ...   \n",
              "7810                  fraud_Murray-Smitham     grocery_pos  Jasmine    Foster   \n",
              "7811               fraud_Hackett-Lueilwitz     grocery_pos   Justin       Gay   \n",
              "7812                   fraud_Koepp-Witting     grocery_pos  Shannon  Williams   \n",
              "7813   fraud_Robel, Cummerata and Prosacco   gas_transport  Zachary     Allen   \n",
              "7814                  fraud_Morissette LLC   entertainment    Jacob     Dawso   \n",
              "\n",
              "     gender                            street           city state  \\\n",
              "0         M                 351 Darlene Green       Columbia    SC   \n",
              "1         F                  3638 Marsh Union        Altonah    UT   \n",
              "2         F              9333 Valentine Point       Bellmore    NY   \n",
              "3         M       32941 Krystal Mill Apt. 552     Titusville    FL   \n",
              "4         M          5783 Evan Roads Apt. 465       Falmouth    MI   \n",
              "...     ...                               ...            ...   ...   \n",
              "7810      F          954 White Alley Apt. 251  Phil Campbell    AL   \n",
              "7811      M           268 Hayes Rue Suite 811    Harborcreek    PA   \n",
              "7812      F  9345 Spencer Junctions Suite 183     Alpharetta    GA   \n",
              "7813      M      69252 Oconnor Alley Apt. 153          Ollie    IA   \n",
              "7814    NaN                               NaN            NaN   NaN   \n",
              "\n",
              "                            job                         trans_num is_fraud_cat  \n",
              "0           Mechanical engineer  2da90c7d74bd46a0caf3777415b3ebd3            F  \n",
              "1        Sales professional, IT  324cc204407e99f51b0d6ca0055005e7            F  \n",
              "2             Librarian, public  c81755dbbbea9d5c77f094348a7579be            F  \n",
              "3                  Set designer  2159175b9efe66dc301f149d3d5abf8c            F  \n",
              "4            Furniture designer  57ff021bd3f328f8738bb535c302a31b            F  \n",
              "...                         ...                               ...          ...  \n",
              "7810     Engineer, aeronautical  e11d567d20b74f412c644122f57b7152            F  \n",
              "7811            Event organiser  dc5380f7b501f8fae23741ae9426ea87            F  \n",
              "7812             Prison officer  eefe1322ac9155ed949e3c71b35ccc37            F  \n",
              "7813  Commercial horticulturist  bb4b4d3d673dddf931fc71c12e090b1d            F  \n",
              "7814                        NaN                               NaN            F  \n",
              "\n",
              "[27281 rows x 11 columns]"
            ],
            "text/html": [
              "\n",
              "  <div id=\"df-75db9e7d-be28-4353-bb19-a26d3d42dc8e\">\n",
              "    <div class=\"colab-df-container\">\n",
              "      <div>\n",
              "<style scoped>\n",
              "    .dataframe tbody tr th:only-of-type {\n",
              "        vertical-align: middle;\n",
              "    }\n",
              "\n",
              "    .dataframe tbody tr th {\n",
              "        vertical-align: top;\n",
              "    }\n",
              "\n",
              "    .dataframe thead th {\n",
              "        text-align: right;\n",
              "    }\n",
              "</style>\n",
              "<table border=\"1\" class=\"dataframe\">\n",
              "  <thead>\n",
              "    <tr style=\"text-align: right;\">\n",
              "      <th></th>\n",
              "      <th>merchant</th>\n",
              "      <th>category</th>\n",
              "      <th>first</th>\n",
              "      <th>last</th>\n",
              "      <th>gender</th>\n",
              "      <th>street</th>\n",
              "      <th>city</th>\n",
              "      <th>state</th>\n",
              "      <th>job</th>\n",
              "      <th>trans_num</th>\n",
              "      <th>is_fraud_cat</th>\n",
              "    </tr>\n",
              "  </thead>\n",
              "  <tbody>\n",
              "    <tr>\n",
              "      <th>0</th>\n",
              "      <td>fraud_Kirlin and Sons</td>\n",
              "      <td>personal_care</td>\n",
              "      <td>Jeff</td>\n",
              "      <td>Elliott</td>\n",
              "      <td>M</td>\n",
              "      <td>351 Darlene Green</td>\n",
              "      <td>Columbia</td>\n",
              "      <td>SC</td>\n",
              "      <td>Mechanical engineer</td>\n",
              "      <td>2da90c7d74bd46a0caf3777415b3ebd3</td>\n",
              "      <td>F</td>\n",
              "    </tr>\n",
              "    <tr>\n",
              "      <th>1</th>\n",
              "      <td>fraud_Sporer-Keebler</td>\n",
              "      <td>personal_care</td>\n",
              "      <td>Joanne</td>\n",
              "      <td>Williams</td>\n",
              "      <td>F</td>\n",
              "      <td>3638 Marsh Union</td>\n",
              "      <td>Altonah</td>\n",
              "      <td>UT</td>\n",
              "      <td>Sales professional, IT</td>\n",
              "      <td>324cc204407e99f51b0d6ca0055005e7</td>\n",
              "      <td>F</td>\n",
              "    </tr>\n",
              "    <tr>\n",
              "      <th>2</th>\n",
              "      <td>fraud_Swaniawski, Nitzsche and Welch</td>\n",
              "      <td>health_fitness</td>\n",
              "      <td>Ashley</td>\n",
              "      <td>Lopez</td>\n",
              "      <td>F</td>\n",
              "      <td>9333 Valentine Point</td>\n",
              "      <td>Bellmore</td>\n",
              "      <td>NY</td>\n",
              "      <td>Librarian, public</td>\n",
              "      <td>c81755dbbbea9d5c77f094348a7579be</td>\n",
              "      <td>F</td>\n",
              "    </tr>\n",
              "    <tr>\n",
              "      <th>3</th>\n",
              "      <td>fraud_Haley Group</td>\n",
              "      <td>misc_pos</td>\n",
              "      <td>Brian</td>\n",
              "      <td>Williams</td>\n",
              "      <td>M</td>\n",
              "      <td>32941 Krystal Mill Apt. 552</td>\n",
              "      <td>Titusville</td>\n",
              "      <td>FL</td>\n",
              "      <td>Set designer</td>\n",
              "      <td>2159175b9efe66dc301f149d3d5abf8c</td>\n",
              "      <td>F</td>\n",
              "    </tr>\n",
              "    <tr>\n",
              "      <th>4</th>\n",
              "      <td>fraud_Johnston-Casper</td>\n",
              "      <td>travel</td>\n",
              "      <td>Nathan</td>\n",
              "      <td>Massey</td>\n",
              "      <td>M</td>\n",
              "      <td>5783 Evan Roads Apt. 465</td>\n",
              "      <td>Falmouth</td>\n",
              "      <td>MI</td>\n",
              "      <td>Furniture designer</td>\n",
              "      <td>57ff021bd3f328f8738bb535c302a31b</td>\n",
              "      <td>F</td>\n",
              "    </tr>\n",
              "    <tr>\n",
              "      <th>...</th>\n",
              "      <td>...</td>\n",
              "      <td>...</td>\n",
              "      <td>...</td>\n",
              "      <td>...</td>\n",
              "      <td>...</td>\n",
              "      <td>...</td>\n",
              "      <td>...</td>\n",
              "      <td>...</td>\n",
              "      <td>...</td>\n",
              "      <td>...</td>\n",
              "      <td>...</td>\n",
              "    </tr>\n",
              "    <tr>\n",
              "      <th>7810</th>\n",
              "      <td>fraud_Murray-Smitham</td>\n",
              "      <td>grocery_pos</td>\n",
              "      <td>Jasmine</td>\n",
              "      <td>Foster</td>\n",
              "      <td>F</td>\n",
              "      <td>954 White Alley Apt. 251</td>\n",
              "      <td>Phil Campbell</td>\n",
              "      <td>AL</td>\n",
              "      <td>Engineer, aeronautical</td>\n",
              "      <td>e11d567d20b74f412c644122f57b7152</td>\n",
              "      <td>F</td>\n",
              "    </tr>\n",
              "    <tr>\n",
              "      <th>7811</th>\n",
              "      <td>fraud_Hackett-Lueilwitz</td>\n",
              "      <td>grocery_pos</td>\n",
              "      <td>Justin</td>\n",
              "      <td>Gay</td>\n",
              "      <td>M</td>\n",
              "      <td>268 Hayes Rue Suite 811</td>\n",
              "      <td>Harborcreek</td>\n",
              "      <td>PA</td>\n",
              "      <td>Event organiser</td>\n",
              "      <td>dc5380f7b501f8fae23741ae9426ea87</td>\n",
              "      <td>F</td>\n",
              "    </tr>\n",
              "    <tr>\n",
              "      <th>7812</th>\n",
              "      <td>fraud_Koepp-Witting</td>\n",
              "      <td>grocery_pos</td>\n",
              "      <td>Shannon</td>\n",
              "      <td>Williams</td>\n",
              "      <td>F</td>\n",
              "      <td>9345 Spencer Junctions Suite 183</td>\n",
              "      <td>Alpharetta</td>\n",
              "      <td>GA</td>\n",
              "      <td>Prison officer</td>\n",
              "      <td>eefe1322ac9155ed949e3c71b35ccc37</td>\n",
              "      <td>F</td>\n",
              "    </tr>\n",
              "    <tr>\n",
              "      <th>7813</th>\n",
              "      <td>fraud_Robel, Cummerata and Prosacco</td>\n",
              "      <td>gas_transport</td>\n",
              "      <td>Zachary</td>\n",
              "      <td>Allen</td>\n",
              "      <td>M</td>\n",
              "      <td>69252 Oconnor Alley Apt. 153</td>\n",
              "      <td>Ollie</td>\n",
              "      <td>IA</td>\n",
              "      <td>Commercial horticulturist</td>\n",
              "      <td>bb4b4d3d673dddf931fc71c12e090b1d</td>\n",
              "      <td>F</td>\n",
              "    </tr>\n",
              "    <tr>\n",
              "      <th>7814</th>\n",
              "      <td>fraud_Morissette LLC</td>\n",
              "      <td>entertainment</td>\n",
              "      <td>Jacob</td>\n",
              "      <td>Dawso</td>\n",
              "      <td>NaN</td>\n",
              "      <td>NaN</td>\n",
              "      <td>NaN</td>\n",
              "      <td>NaN</td>\n",
              "      <td>NaN</td>\n",
              "      <td>NaN</td>\n",
              "      <td>F</td>\n",
              "    </tr>\n",
              "  </tbody>\n",
              "</table>\n",
              "<p>27281 rows × 11 columns</p>\n",
              "</div>\n",
              "      <button class=\"colab-df-convert\" onclick=\"convertToInteractive('df-75db9e7d-be28-4353-bb19-a26d3d42dc8e')\"\n",
              "              title=\"Convert this dataframe to an interactive table.\"\n",
              "              style=\"display:none;\">\n",
              "        \n",
              "  <svg xmlns=\"http://www.w3.org/2000/svg\" height=\"24px\"viewBox=\"0 0 24 24\"\n",
              "       width=\"24px\">\n",
              "    <path d=\"M0 0h24v24H0V0z\" fill=\"none\"/>\n",
              "    <path d=\"M18.56 5.44l.94 2.06.94-2.06 2.06-.94-2.06-.94-.94-2.06-.94 2.06-2.06.94zm-11 1L8.5 8.5l.94-2.06 2.06-.94-2.06-.94L8.5 2.5l-.94 2.06-2.06.94zm10 10l.94 2.06.94-2.06 2.06-.94-2.06-.94-.94-2.06-.94 2.06-2.06.94z\"/><path d=\"M17.41 7.96l-1.37-1.37c-.4-.4-.92-.59-1.43-.59-.52 0-1.04.2-1.43.59L10.3 9.45l-7.72 7.72c-.78.78-.78 2.05 0 2.83L4 21.41c.39.39.9.59 1.41.59.51 0 1.02-.2 1.41-.59l7.78-7.78 2.81-2.81c.8-.78.8-2.07 0-2.86zM5.41 20L4 18.59l7.72-7.72 1.47 1.35L5.41 20z\"/>\n",
              "  </svg>\n",
              "      </button>\n",
              "      \n",
              "  <style>\n",
              "    .colab-df-container {\n",
              "      display:flex;\n",
              "      flex-wrap:wrap;\n",
              "      gap: 12px;\n",
              "    }\n",
              "\n",
              "    .colab-df-convert {\n",
              "      background-color: #E8F0FE;\n",
              "      border: none;\n",
              "      border-radius: 50%;\n",
              "      cursor: pointer;\n",
              "      display: none;\n",
              "      fill: #1967D2;\n",
              "      height: 32px;\n",
              "      padding: 0 0 0 0;\n",
              "      width: 32px;\n",
              "    }\n",
              "\n",
              "    .colab-df-convert:hover {\n",
              "      background-color: #E2EBFA;\n",
              "      box-shadow: 0px 1px 2px rgba(60, 64, 67, 0.3), 0px 1px 3px 1px rgba(60, 64, 67, 0.15);\n",
              "      fill: #174EA6;\n",
              "    }\n",
              "\n",
              "    [theme=dark] .colab-df-convert {\n",
              "      background-color: #3B4455;\n",
              "      fill: #D2E3FC;\n",
              "    }\n",
              "\n",
              "    [theme=dark] .colab-df-convert:hover {\n",
              "      background-color: #434B5C;\n",
              "      box-shadow: 0px 1px 3px 1px rgba(0, 0, 0, 0.15);\n",
              "      filter: drop-shadow(0px 1px 2px rgba(0, 0, 0, 0.3));\n",
              "      fill: #FFFFFF;\n",
              "    }\n",
              "  </style>\n",
              "\n",
              "      <script>\n",
              "        const buttonEl =\n",
              "          document.querySelector('#df-75db9e7d-be28-4353-bb19-a26d3d42dc8e button.colab-df-convert');\n",
              "        buttonEl.style.display =\n",
              "          google.colab.kernel.accessAllowed ? 'block' : 'none';\n",
              "\n",
              "        async function convertToInteractive(key) {\n",
              "          const element = document.querySelector('#df-75db9e7d-be28-4353-bb19-a26d3d42dc8e');\n",
              "          const dataTable =\n",
              "            await google.colab.kernel.invokeFunction('convertToInteractive',\n",
              "                                                     [key], {});\n",
              "          if (!dataTable) return;\n",
              "\n",
              "          const docLinkHtml = 'Like what you see? Visit the ' +\n",
              "            '<a target=\"_blank\" href=https://colab.research.google.com/notebooks/data_table.ipynb>data table notebook</a>'\n",
              "            + ' to learn more about interactive tables.';\n",
              "          element.innerHTML = '';\n",
              "          dataTable['output_type'] = 'display_data';\n",
              "          await google.colab.output.renderOutput(dataTable, element);\n",
              "          const docLink = document.createElement('div');\n",
              "          docLink.innerHTML = docLinkHtml;\n",
              "          element.appendChild(docLink);\n",
              "        }\n",
              "      </script>\n",
              "    </div>\n",
              "  </div>\n",
              "  "
            ]
          },
          "metadata": {},
          "execution_count": 36
        }
      ]
    },
    {
      "cell_type": "code",
      "source": [
        "sns.countplot(total[total['is_fraud_cat']==\"T\"].category)\n",
        "plt.xticks(rotation=45)\n",
        "plt.show()"
      ],
      "metadata": {
        "colab": {
          "base_uri": "https://localhost:8080/",
          "height": 382
        },
        "id": "0gq4F-mltw9m",
        "outputId": "b56cb39a-def9-42fd-f246-6574bbd13cc7"
      },
      "execution_count": null,
      "outputs": [
        {
          "output_type": "stream",
          "name": "stderr",
          "text": [
            "/usr/local/lib/python3.8/dist-packages/seaborn/_decorators.py:36: FutureWarning: Pass the following variable as a keyword arg: x. From version 0.12, the only valid positional argument will be `data`, and passing other arguments without an explicit keyword will result in an error or misinterpretation.\n",
            "  warnings.warn(\n"
          ]
        },
        {
          "output_type": "display_data",
          "data": {
            "text/plain": [
              "<Figure size 432x288 with 1 Axes>"
            ],
            "image/png": "[encoded data removed]"
          },
          "metadata": {
            "needs_background": "light"
          }
        }
      ]
    },
    {
      "cell_type": "code",
      "source": [
        "sns.countplot(total[total['is_fraud_cat']==\"T\"].gender)\n",
        "plt.xticks(rotation=45)\n",
        "plt.show()"
      ],
      "metadata": {
        "colab": {
          "base_uri": "https://localhost:8080/",
          "height": 338
        },
        "id": "SwoFLuqetzZ7",
        "outputId": "44621991-b1ff-44ec-b1a0-2e75f3f7c0c4"
      },
      "execution_count": null,
      "outputs": [
        {
          "output_type": "stream",
          "name": "stderr",
          "text": [
            "/usr/local/lib/python3.8/dist-packages/seaborn/_decorators.py:36: FutureWarning: Pass the following variable as a keyword arg: x. From version 0.12, the only valid positional argument will be `data`, and passing other arguments without an explicit keyword will result in an error or misinterpretation.\n",
            "  warnings.warn(\n"
          ]
        },
        {
          "output_type": "display_data",
          "data": {
            "text/plain": [
              "<Figure size 432x288 with 1 Axes>"
            ],
            "image/png": "[encoded data removed]"
          },
          "metadata": {
            "needs_background": "light"
          }
        }
      ]
    },
    {
      "cell_type": "code",
      "source": [
        "sns.countplot(total[total['is_fraud_cat']==\"T\"].gender)\n",
        "plt.xticks(rotation=45)\n",
        "plt.show()"
      ],
      "metadata": {
        "colab": {
          "base_uri": "https://localhost:8080/",
          "height": 338
        },
        "id": "DVX4M2r_t2Yf",
        "outputId": "616a4261-7024-40bb-88a7-f24f2e00284a"
      },
      "execution_count": null,
      "outputs": [
        {
          "output_type": "stream",
          "name": "stderr",
          "text": [
            "/usr/local/lib/python3.8/dist-packages/seaborn/_decorators.py:36: FutureWarning: Pass the following variable as a keyword arg: x. From version 0.12, the only valid positional argument will be `data`, and passing other arguments without an explicit keyword will result in an error or misinterpretation.\n",
            "  warnings.warn(\n"
          ]
        },
        {
          "output_type": "display_data",
          "data": {
            "text/plain": [
              "<Figure size 432x288 with 1 Axes>"
            ],
            "image/png": "[encoded data removed]"
          },
          "metadata": {
            "needs_background": "light"
          }
        }
      ]
    },
    {
      "cell_type": "code",
      "source": [
        "fig, ax = plt.subplots(figsize=(120,60))\n",
        "plt.rcParams.update({'font.size': 60})\n",
        "sns.countplot(total[total['is_fraud_cat']==\"T\"].state)\n",
        "plt.xticks(rotation=45)\n",
        "for p, label in zip(ax.patches, total[\"state\"].value_counts().index):\n",
        "    ax.annotate(label, (p.get_x(), p.get_height()+0.15))\n",
        "plt.title(\"Number of Credit Card Frauds by State\")\n",
        "plt.show()"
      ],
      "metadata": {
        "colab": {
          "base_uri": "https://localhost:8080/",
          "height": 545
        },
        "id": "CaAhr8iot5bx",
        "outputId": "ceeb70eb-5d32-4ef7-c959-ea98f6db3dc5"
      },
      "execution_count": null,
      "outputs": [
        {
          "output_type": "stream",
          "name": "stderr",
          "text": [
            "/usr/local/lib/python3.8/dist-packages/seaborn/_decorators.py:36: FutureWarning: Pass the following variable as a keyword arg: x. From version 0.12, the only valid positional argument will be `data`, and passing other arguments without an explicit keyword will result in an error or misinterpretation.\n",
            "  warnings.warn(\n"
          ]
        },
        {
          "output_type": "display_data",
          "data": {
            "text/plain": [
              "<Figure size 8640x4320 with 1 Axes>"
            ],
            "image/png": "[encoded data removed]"
          },
          "metadata": {
            "needs_background": "light"
          }
        }
      ]
    },
    {
      "cell_type": "code",
      "source": [
        "import random\n",
        "def randomcolor():\n",
        "    r = random.random()\n",
        "    b = random.random()\n",
        "    g = random.random()\n",
        "    rgb = [r,g,b]\n",
        "    return rgb\n",
        "plt.rcParams.update({'font.size': 20})\n",
        "total[total['is_fraud_cat']==\"T\"][\"city\"].value_counts(sort=True,ascending=False).head(10).plot(kind=\"bar\",color=randomcolor())\n",
        "plt.title(\"Number of Credit Card Frauds by City\")\n",
        "plt.show()"
      ],
      "metadata": {
        "colab": {
          "base_uri": "https://localhost:8080/",
          "height": 447
        },
        "id": "57hibcTHt8PN",
        "outputId": "e2f34d6b-4c1b-4b0c-b419-4057ab2f5d83"
      },
      "execution_count": null,
      "outputs": [
        {
          "output_type": "display_data",
          "data": {
            "text/plain": [
              "<Figure size 432x288 with 1 Axes>"
            ],
            "image/png": "[encoded data removed]"
          },
          "metadata": {
            "needs_background": "light"
          }
        }
      ]
    },
    {
      "cell_type": "code",
      "source": [
        "total[total['is_fraud_cat']==\"T\"][\"job\"].value_counts(sort=True,ascending=False).head(10).plot(kind=\"bar\",color=randomcolor())\n",
        "plt.title(\"Number of Credit Card Frauds by Job\")\n",
        "plt.show()"
      ],
      "metadata": {
        "colab": {
          "base_uri": "https://localhost:8080/",
          "height": 551
        },
        "id": "LGDn35HAt-38",
        "outputId": "912063a7-b35b-4a46-97a2-196f08c49c31"
      },
      "execution_count": null,
      "outputs": [
        {
          "output_type": "display_data",
          "data": {
            "text/plain": [
              "<Figure size 432x288 with 1 Axes>"
            ],
            "image/png": "[encoded data removed]"
          },
          "metadata": {
            "needs_background": "light"
          }
        }
      ]
    },
    {
      "cell_type": "code",
      "source": [
        "del total['is_fraud_cat']\n",
        "from scipy.stats import norm, skew"
      ],
      "metadata": {
        "id": "Xgqcvn3YuBaq"
      },
      "execution_count": null,
      "outputs": []
    },
    {
      "cell_type": "code",
      "source": [
        "testnum= test.select_dtypes(include=np.number)\n",
        "test[testnum.columns]"
      ],
      "metadata": {
        "colab": {
          "base_uri": "https://localhost:8080/",
          "height": 468
        },
        "id": "EQIWzVAXuE_2",
        "outputId": "3cfb20a4-527c-452a-d4fc-2294514490ce"
      },
      "execution_count": null,
      "outputs": [
        {
          "output_type": "execute_result",
          "data": {
            "text/plain": [
              "                    cc_num    amt      zip      lat      long  city_pop  \\\n",
              "0         2291163933867244   2.86  29209.0  33.9659  -80.9355  333497.0   \n",
              "1         3573030041201292  29.84  84002.0  40.3207 -110.4360     302.0   \n",
              "2         3598215285024754  41.28  11710.0  40.6729  -73.5365   34496.0   \n",
              "3         3591919803438423  60.05  32780.0  28.5697  -80.8191   54767.0   \n",
              "4         3526826139003047   3.19  49632.0  44.2529  -85.0170    1126.0   \n",
              "...                    ...    ...      ...      ...       ...       ...   \n",
              "19461     3560697798177746  78.75  92210.0  33.7163 -116.3381    4677.0   \n",
              "19462       30153452207526  12.09  76834.0  31.8287  -99.4270    5908.0   \n",
              "19463  4792627764422477317  74.11  66018.0  38.9462  -94.9714    5760.0   \n",
              "19464     3568255211412877  75.82  46765.0  41.2249  -85.0301    5341.0   \n",
              "19465     6595970453799027  74.54      NaN      NaN       NaN       NaN   \n",
              "\n",
              "          unix_time  merch_lat  merch_long  is_fraud  \n",
              "0      1.371817e+09  33.986391  -81.200714       0.0  \n",
              "1      1.371817e+09  39.450498 -109.960431       0.0  \n",
              "2      1.371817e+09  40.495810  -74.196111       0.0  \n",
              "3      1.371817e+09  28.812398  -80.883061       0.0  \n",
              "4      1.371817e+09  44.959148  -85.884734       0.0  \n",
              "...             ...        ...         ...       ...  \n",
              "19461  1.372405e+09  34.640187 -116.625076       0.0  \n",
              "19462  1.372405e+09  31.661750  -98.635733       0.0  \n",
              "19463  1.372405e+09  38.486031  -95.101789       0.0  \n",
              "19464  1.372405e+09  42.035201  -85.267221       0.0  \n",
              "19465           NaN        NaN         NaN       NaN  \n",
              "\n",
              "[19466 rows x 10 columns]"
            ],
            "text/html": [
              "\n",
              "  <div id=\"df-60fea538-1b32-415a-ae49-dfdfb014e852\">\n",
              "    <div class=\"colab-df-container\">\n",
              "      <div>\n",
              "<style scoped>\n",
              "    .dataframe tbody tr th:only-of-type {\n",
              "        vertical-align: middle;\n",
              "    }\n",
              "\n",
              "    .dataframe tbody tr th {\n",
              "        vertical-align: top;\n",
              "    }\n",
              "\n",
              "    .dataframe thead th {\n",
              "        text-align: right;\n",
              "    }\n",
              "</style>\n",
              "<table border=\"1\" class=\"dataframe\">\n",
              "  <thead>\n",
              "    <tr style=\"text-align: right;\">\n",
              "      <th></th>\n",
              "      <th>cc_num</th>\n",
              "      <th>amt</th>\n",
              "      <th>zip</th>\n",
              "      <th>lat</th>\n",
              "      <th>long</th>\n",
              "      <th>city_pop</th>\n",
              "      <th>unix_time</th>\n",
              "      <th>merch_lat</th>\n",
              "      <th>merch_long</th>\n",
              "      <th>is_fraud</th>\n",
              "    </tr>\n",
              "  </thead>\n",
              "  <tbody>\n",
              "    <tr>\n",
              "      <th>0</th>\n",
              "      <td>2291163933867244</td>\n",
              "      <td>2.86</td>\n",
              "      <td>29209.0</td>\n",
              "      <td>33.9659</td>\n",
              "      <td>-80.9355</td>\n",
              "      <td>333497.0</td>\n",
              "      <td>1.371817e+09</td>\n",
              "      <td>33.986391</td>\n",
              "      <td>-81.200714</td>\n",
              "      <td>0.0</td>\n",
              "    </tr>\n",
              "    <tr>\n",
              "      <th>1</th>\n",
              "      <td>3573030041201292</td>\n",
              "      <td>29.84</td>\n",
              "      <td>84002.0</td>\n",
              "      <td>40.3207</td>\n",
              "      <td>-110.4360</td>\n",
              "      <td>302.0</td>\n",
              "      <td>1.371817e+09</td>\n",
              "      <td>39.450498</td>\n",
              "      <td>-109.960431</td>\n",
              "      <td>0.0</td>\n",
              "    </tr>\n",
              "    <tr>\n",
              "      <th>2</th>\n",
              "      <td>3598215285024754</td>\n",
              "      <td>41.28</td>\n",
              "      <td>11710.0</td>\n",
              "      <td>40.6729</td>\n",
              "      <td>-73.5365</td>\n",
              "      <td>34496.0</td>\n",
              "      <td>1.371817e+09</td>\n",
              "      <td>40.495810</td>\n",
              "      <td>-74.196111</td>\n",
              "      <td>0.0</td>\n",
              "    </tr>\n",
              "    <tr>\n",
              "      <th>3</th>\n",
              "      <td>3591919803438423</td>\n",
              "      <td>60.05</td>\n",
              "      <td>32780.0</td>\n",
              "      <td>28.5697</td>\n",
              "      <td>-80.8191</td>\n",
              "      <td>54767.0</td>\n",
              "      <td>1.371817e+09</td>\n",
              "      <td>28.812398</td>\n",
              "      <td>-80.883061</td>\n",
              "      <td>0.0</td>\n",
              "    </tr>\n",
              "    <tr>\n",
              "      <th>4</th>\n",
              "      <td>3526826139003047</td>\n",
              "      <td>3.19</td>\n",
              "      <td>49632.0</td>\n",
              "      <td>44.2529</td>\n",
              "      <td>-85.0170</td>\n",
              "      <td>1126.0</td>\n",
              "      <td>1.371817e+09</td>\n",
              "      <td>44.959148</td>\n",
              "      <td>-85.884734</td>\n",
              "      <td>0.0</td>\n",
              "    </tr>\n",
              "    <tr>\n",
              "      <th>...</th>\n",
              "      <td>...</td>\n",
              "      <td>...</td>\n",
              "      <td>...</td>\n",
              "      <td>...</td>\n",
              "      <td>...</td>\n",
              "      <td>...</td>\n",
              "      <td>...</td>\n",
              "      <td>...</td>\n",
              "      <td>...</td>\n",
              "      <td>...</td>\n",
              "    </tr>\n",
              "    <tr>\n",
              "      <th>19461</th>\n",
              "      <td>3560697798177746</td>\n",
              "      <td>78.75</td>\n",
              "      <td>92210.0</td>\n",
              "      <td>33.7163</td>\n",
              "      <td>-116.3381</td>\n",
              "      <td>4677.0</td>\n",
              "      <td>1.372405e+09</td>\n",
              "      <td>34.640187</td>\n",
              "      <td>-116.625076</td>\n",
              "      <td>0.0</td>\n",
              "    </tr>\n",
              "    <tr>\n",
              "      <th>19462</th>\n",
              "      <td>30153452207526</td>\n",
              "      <td>12.09</td>\n",
              "      <td>76834.0</td>\n",
              "      <td>31.8287</td>\n",
              "      <td>-99.4270</td>\n",
              "      <td>5908.0</td>\n",
              "      <td>1.372405e+09</td>\n",
              "      <td>31.661750</td>\n",
              "      <td>-98.635733</td>\n",
              "      <td>0.0</td>\n",
              "    </tr>\n",
              "    <tr>\n",
              "      <th>19463</th>\n",
              "      <td>4792627764422477317</td>\n",
              "      <td>74.11</td>\n",
              "      <td>66018.0</td>\n",
              "      <td>38.9462</td>\n",
              "      <td>-94.9714</td>\n",
              "      <td>5760.0</td>\n",
              "      <td>1.372405e+09</td>\n",
              "      <td>38.486031</td>\n",
              "      <td>-95.101789</td>\n",
              "      <td>0.0</td>\n",
              "    </tr>\n",
              "    <tr>\n",
              "      <th>19464</th>\n",
              "      <td>3568255211412877</td>\n",
              "      <td>75.82</td>\n",
              "      <td>46765.0</td>\n",
              "      <td>41.2249</td>\n",
              "      <td>-85.0301</td>\n",
              "      <td>5341.0</td>\n",
              "      <td>1.372405e+09</td>\n",
              "      <td>42.035201</td>\n",
              "      <td>-85.267221</td>\n",
              "      <td>0.0</td>\n",
              "    </tr>\n",
              "    <tr>\n",
              "      <th>19465</th>\n",
              "      <td>6595970453799027</td>\n",
              "      <td>74.54</td>\n",
              "      <td>NaN</td>\n",
              "      <td>NaN</td>\n",
              "      <td>NaN</td>\n",
              "      <td>NaN</td>\n",
              "      <td>NaN</td>\n",
              "      <td>NaN</td>\n",
              "      <td>NaN</td>\n",
              "      <td>NaN</td>\n",
              "    </tr>\n",
              "  </tbody>\n",
              "</table>\n",
              "<p>19466 rows × 10 columns</p>\n",
              "</div>\n",
              "      <button class=\"colab-df-convert\" onclick=\"convertToInteractive('df-60fea538-1b32-415a-ae49-dfdfb014e852')\"\n",
              "              title=\"Convert this dataframe to an interactive table.\"\n",
              "              style=\"display:none;\">\n",
              "        \n",
              "  <svg xmlns=\"http://www.w3.org/2000/svg\" height=\"24px\"viewBox=\"0 0 24 24\"\n",
              "       width=\"24px\">\n",
              "    <path d=\"M0 0h24v24H0V0z\" fill=\"none\"/>\n",
              "    <path d=\"M18.56 5.44l.94 2.06.94-2.06 2.06-.94-2.06-.94-.94-2.06-.94 2.06-2.06.94zm-11 1L8.5 8.5l.94-2.06 2.06-.94-2.06-.94L8.5 2.5l-.94 2.06-2.06.94zm10 10l.94 2.06.94-2.06 2.06-.94-2.06-.94-.94-2.06-.94 2.06-2.06.94z\"/><path d=\"M17.41 7.96l-1.37-1.37c-.4-.4-.92-.59-1.43-.59-.52 0-1.04.2-1.43.59L10.3 9.45l-7.72 7.72c-.78.78-.78 2.05 0 2.83L4 21.41c.39.39.9.59 1.41.59.51 0 1.02-.2 1.41-.59l7.78-7.78 2.81-2.81c.8-.78.8-2.07 0-2.86zM5.41 20L4 18.59l7.72-7.72 1.47 1.35L5.41 20z\"/>\n",
              "  </svg>\n",
              "      </button>\n",
              "      \n",
              "  <style>\n",
              "    .colab-df-container {\n",
              "      display:flex;\n",
              "      flex-wrap:wrap;\n",
              "      gap: 12px;\n",
              "    }\n",
              "\n",
              "    .colab-df-convert {\n",
              "      background-color: #E8F0FE;\n",
              "      border: none;\n",
              "      border-radius: 50%;\n",
              "      cursor: pointer;\n",
              "      display: none;\n",
              "      fill: #1967D2;\n",
              "      height: 32px;\n",
              "      padding: 0 0 0 0;\n",
              "      width: 32px;\n",
              "    }\n",
              "\n",
              "    .colab-df-convert:hover {\n",
              "      background-color: #E2EBFA;\n",
              "      box-shadow: 0px 1px 2px rgba(60, 64, 67, 0.3), 0px 1px 3px 1px rgba(60, 64, 67, 0.15);\n",
              "      fill: #174EA6;\n",
              "    }\n",
              "\n",
              "    [theme=dark] .colab-df-convert {\n",
              "      background-color: #3B4455;\n",
              "      fill: #D2E3FC;\n",
              "    }\n",
              "\n",
              "    [theme=dark] .colab-df-convert:hover {\n",
              "      background-color: #434B5C;\n",
              "      box-shadow: 0px 1px 3px 1px rgba(0, 0, 0, 0.15);\n",
              "      filter: drop-shadow(0px 1px 2px rgba(0, 0, 0, 0.3));\n",
              "      fill: #FFFFFF;\n",
              "    }\n",
              "  </style>\n",
              "\n",
              "      <script>\n",
              "        const buttonEl =\n",
              "          document.querySelector('#df-60fea538-1b32-415a-ae49-dfdfb014e852 button.colab-df-convert');\n",
              "        buttonEl.style.display =\n",
              "          google.colab.kernel.accessAllowed ? 'block' : 'none';\n",
              "\n",
              "        async function convertToInteractive(key) {\n",
              "          const element = document.querySelector('#df-60fea538-1b32-415a-ae49-dfdfb014e852');\n",
              "          const dataTable =\n",
              "            await google.colab.kernel.invokeFunction('convertToInteractive',\n",
              "                                                     [key], {});\n",
              "          if (!dataTable) return;\n",
              "\n",
              "          const docLinkHtml = 'Like what you see? Visit the ' +\n",
              "            '<a target=\"_blank\" href=https://colab.research.google.com/notebooks/data_table.ipynb>data table notebook</a>'\n",
              "            + ' to learn more about interactive tables.';\n",
              "          element.innerHTML = '';\n",
              "          dataTable['output_type'] = 'display_data';\n",
              "          await google.colab.output.renderOutput(dataTable, element);\n",
              "          const docLink = document.createElement('div');\n",
              "          docLink.innerHTML = docLinkHtml;\n",
              "          element.appendChild(docLink);\n",
              "        }\n",
              "      </script>\n",
              "    </div>\n",
              "  </div>\n",
              "  "
            ]
          },
          "metadata": {},
          "execution_count": 44
        }
      ]
    },
    {
      "cell_type": "code",
      "source": [
        "total.isnull().sum()"
      ],
      "metadata": {
        "colab": {
          "base_uri": "https://localhost:8080/"
        },
        "id": "YSNSRWLzuHGg",
        "outputId": "ff34ac7e-d529-481d-a0a6-87b9e252daa0"
      },
      "execution_count": null,
      "outputs": [
        {
          "output_type": "execute_result",
          "data": {
            "text/plain": [
              "trans_date_trans_time    0\n",
              "cc_num                   0\n",
              "merchant                 0\n",
              "category                 0\n",
              "amt                      0\n",
              "first                    0\n",
              "last                     0\n",
              "gender                   1\n",
              "street                   1\n",
              "city                     2\n",
              "state                    2\n",
              "zip                      2\n",
              "lat                      2\n",
              "long                     2\n",
              "city_pop                 2\n",
              "job                      2\n",
              "dob                      2\n",
              "trans_num                2\n",
              "unix_time                2\n",
              "merch_lat                2\n",
              "merch_long               2\n",
              "is_fraud                 2\n",
              "trans_date               0\n",
              "dtype: int64"
            ]
          },
          "metadata": {},
          "execution_count": 45
        }
      ]
    },
    {
      "cell_type": "code",
      "source": [
        "total[testnum.columns].info()"
      ],
      "metadata": {
        "colab": {
          "base_uri": "https://localhost:8080/"
        },
        "id": "GCFDnNWmuKVV",
        "outputId": "cc8b89f0-cd8f-4dd5-8e1b-4940d3355291"
      },
      "execution_count": null,
      "outputs": [
        {
          "output_type": "stream",
          "name": "stdout",
          "text": [
            "<class 'pandas.core.frame.DataFrame'>\n",
            "Int64Index: 27281 entries, 0 to 7814\n",
            "Data columns (total 10 columns):\n",
            " #   Column      Non-Null Count  Dtype  \n",
            "---  ------      --------------  -----  \n",
            " 0   cc_num      27281 non-null  int64  \n",
            " 1   amt         27281 non-null  float64\n",
            " 2   zip         27279 non-null  float64\n",
            " 3   lat         27279 non-null  float64\n",
            " 4   long        27279 non-null  float64\n",
            " 5   city_pop    27279 non-null  float64\n",
            " 6   unix_time   27279 non-null  float64\n",
            " 7   merch_lat   27279 non-null  float64\n",
            " 8   merch_long  27279 non-null  float64\n",
            " 9   is_fraud    27279 non-null  float64\n",
            "dtypes: float64(9), int64(1)\n",
            "memory usage: 2.3 MB\n"
          ]
        }
      ]
    },
    {
      "cell_type": "code",
      "source": [
        "plt.rcParams.update({'font.size': 10})\n",
        "skewness = str(skew(total['amt']))\n",
        "sns.distplot(total['amt'],fit = norm,color = randomcolor())\n",
        "plt.title(\"Skewness of amt\"+\" = \"+skewness)\n",
        "plt.show()"
      ],
      "metadata": {
        "colab": {
          "base_uri": "https://localhost:8080/",
          "height": 350
        },
        "id": "efjjLmhIuM9b",
        "outputId": "61270112-fd38-4fac-97e6-85c798f5f387"
      },
      "execution_count": null,
      "outputs": [
        {
          "output_type": "stream",
          "name": "stderr",
          "text": [
            "/usr/local/lib/python3.8/dist-packages/seaborn/distributions.py:2619: FutureWarning: `distplot` is a deprecated function and will be removed in a future version. Please adapt your code to use either `displot` (a figure-level function with similar flexibility) or `histplot` (an axes-level function for histograms).\n",
            "  warnings.warn(msg, FutureWarning)\n"
          ]
        },
        {
          "output_type": "display_data",
          "data": {
            "text/plain": [
              "<Figure size 432x288 with 1 Axes>"
            ],
            "image/png": "[encoded data removed]"
          },
          "metadata": {
            "needs_background": "light"
          }
        }
      ]
    },
    {
      "cell_type": "code",
      "source": [
        "skewness = str(skew(total['city_pop']))\n",
        "sns.distplot(total['city_pop'],fit = norm,color = randomcolor())\n",
        "plt.title(\"Skewness of population\"+\" = \"+skewness)\n",
        "plt.show()"
      ],
      "metadata": {
        "colab": {
          "base_uri": "https://localhost:8080/",
          "height": 351
        },
        "id": "E4zkNWIEuPkE",
        "outputId": "44fcfaa0-d4fe-4933-958d-e91609af4af3"
      },
      "execution_count": null,
      "outputs": [
        {
          "output_type": "stream",
          "name": "stderr",
          "text": [
            "/usr/local/lib/python3.8/dist-packages/seaborn/distributions.py:2619: FutureWarning: `distplot` is a deprecated function and will be removed in a future version. Please adapt your code to use either `displot` (a figure-level function with similar flexibility) or `histplot` (an axes-level function for histograms).\n",
            "  warnings.warn(msg, FutureWarning)\n"
          ]
        },
        {
          "output_type": "display_data",
          "data": {
            "text/plain": [
              "<Figure size 432x288 with 1 Axes>"
            ],
            "image/png": "[encoded data removed]"
          },
          "metadata": {
            "needs_background": "light"
          }
        }
      ]
    },
    {
      "cell_type": "code",
      "source": [
        "sns.distplot(total['is_fraud'],fit = norm,color = randomcolor())\n",
        "plt.title(\"Distribution of is_fraud\")\n",
        "plt.show()"
      ],
      "metadata": {
        "colab": {
          "base_uri": "https://localhost:8080/",
          "height": 351
        },
        "id": "C_rYifLTuSpD",
        "outputId": "7cfd91ea-94f7-4fd5-fa74-14a627b4e32b"
      },
      "execution_count": null,
      "outputs": [
        {
          "output_type": "stream",
          "name": "stderr",
          "text": [
            "/usr/local/lib/python3.8/dist-packages/seaborn/distributions.py:2619: FutureWarning: `distplot` is a deprecated function and will be removed in a future version. Please adapt your code to use either `displot` (a figure-level function with similar flexibility) or `histplot` (an axes-level function for histograms).\n",
            "  warnings.warn(msg, FutureWarning)\n"
          ]
        },
        {
          "output_type": "display_data",
          "data": {
            "text/plain": [
              "<Figure size 432x288 with 1 Axes>"
            ],
            "image/png": "[encoded data removed]"
          },
          "metadata": {
            "needs_background": "light"
          }
        }
      ]
    },
    {
      "cell_type": "code",
      "source": [
        "total.drop(['cc_num','merchant','first','last','street','zip','trans_num','unix_time'],axis=1,inplace=True)\n",
        "total.info()"
      ],
      "metadata": {
        "colab": {
          "base_uri": "https://localhost:8080/"
        },
        "id": "XyqRW6q8uUjF",
        "outputId": "bd945112-18be-4045-a639-ded2e2f7a931"
      },
      "execution_count": null,
      "outputs": [
        {
          "output_type": "stream",
          "name": "stdout",
          "text": [
            "<class 'pandas.core.frame.DataFrame'>\n",
            "Int64Index: 27281 entries, 0 to 7814\n",
            "Data columns (total 15 columns):\n",
            " #   Column                 Non-Null Count  Dtype         \n",
            "---  ------                 --------------  -----         \n",
            " 0   trans_date_trans_time  27281 non-null  datetime64[ns]\n",
            " 1   category               27281 non-null  object        \n",
            " 2   amt                    27281 non-null  float64       \n",
            " 3   gender                 27280 non-null  object        \n",
            " 4   city                   27279 non-null  object        \n",
            " 5   state                  27279 non-null  object        \n",
            " 6   lat                    27279 non-null  float64       \n",
            " 7   long                   27279 non-null  float64       \n",
            " 8   city_pop               27279 non-null  float64       \n",
            " 9   job                    27279 non-null  object        \n",
            " 10  dob                    27279 non-null  datetime64[ns]\n",
            " 11  merch_lat              27279 non-null  float64       \n",
            " 12  merch_long             27279 non-null  float64       \n",
            " 13  is_fraud               27279 non-null  float64       \n",
            " 14  trans_date             27281 non-null  datetime64[ns]\n",
            "dtypes: datetime64[ns](3), float64(7), object(5)\n",
            "memory usage: 3.3+ MB\n"
          ]
        }
      ]
    },
    {
      "cell_type": "code",
      "source": [
        "plt.figure(figsize=(8,5))\n",
        "ax = sns.countplot(x=\"is_fraud\", data=total,color=randomcolor())\n",
        "for p in ax.patches:\n",
        "     ax.annotate('{:.1f}'.format(p.get_height()), (p.get_x()+0.25, p.get_height()+0.01))\n",
        "plt.show()"
      ],
      "metadata": {
        "colab": {
          "base_uri": "https://localhost:8080/",
          "height": 335
        },
        "id": "fuHuzA3euWkN",
        "outputId": "3ddfe082-bc06-4dca-87d4-afb32890a0c6"
      },
      "execution_count": null,
      "outputs": [
        {
          "output_type": "display_data",
          "data": {
            "text/plain": [
              "<Figure size 576x360 with 1 Axes>"
            ],
            "image/png": "[encoded data removed]"
          },
          "metadata": {
            "needs_background": "light"
          }
        }
      ]
    },
    {
      "cell_type": "code",
      "source": [
        "total[\"age\"] = total[\"trans_date\"]-total[\"dob\"]\n",
        "total[\"age\"]=total[\"age\"].astype('timedelta64[Y]')\n",
        "total[\"age\"].head()"
      ],
      "metadata": {
        "colab": {
          "base_uri": "https://localhost:8080/"
        },
        "id": "JjTTJ1ZguZM_",
        "outputId": "9861a99b-7a21-4ae8-a005-8771c4c2bd3c"
      },
      "execution_count": null,
      "outputs": [
        {
          "output_type": "execute_result",
          "data": {
            "text/plain": [
              "0    52.0\n",
              "1    30.0\n",
              "2    49.0\n",
              "3    32.0\n",
              "4    64.0\n",
              "Name: age, dtype: float64"
            ]
          },
          "metadata": {},
          "execution_count": 52
        }
      ]
    },
    {
      "cell_type": "code",
      "source": [
        "total.info()"
      ],
      "metadata": {
        "colab": {
          "base_uri": "https://localhost:8080/"
        },
        "id": "T9UhJikZub9V",
        "outputId": "376c2a82-377e-4547-8966-4c99c198e71b"
      },
      "execution_count": null,
      "outputs": [
        {
          "output_type": "stream",
          "name": "stdout",
          "text": [
            "<class 'pandas.core.frame.DataFrame'>\n",
            "Int64Index: 27281 entries, 0 to 7814\n",
            "Data columns (total 16 columns):\n",
            " #   Column                 Non-Null Count  Dtype         \n",
            "---  ------                 --------------  -----         \n",
            " 0   trans_date_trans_time  27281 non-null  datetime64[ns]\n",
            " 1   category               27281 non-null  object        \n",
            " 2   amt                    27281 non-null  float64       \n",
            " 3   gender                 27280 non-null  object        \n",
            " 4   city                   27279 non-null  object        \n",
            " 5   state                  27279 non-null  object        \n",
            " 6   lat                    27279 non-null  float64       \n",
            " 7   long                   27279 non-null  float64       \n",
            " 8   city_pop               27279 non-null  float64       \n",
            " 9   job                    27279 non-null  object        \n",
            " 10  dob                    27279 non-null  datetime64[ns]\n",
            " 11  merch_lat              27279 non-null  float64       \n",
            " 12  merch_long             27279 non-null  float64       \n",
            " 13  is_fraud               27279 non-null  float64       \n",
            " 14  trans_date             27281 non-null  datetime64[ns]\n",
            " 15  age                    27279 non-null  float64       \n",
            "dtypes: datetime64[ns](3), float64(8), object(5)\n",
            "memory usage: 4.5+ MB\n"
          ]
        }
      ]
    },
    {
      "cell_type": "code",
      "source": [
        "fraud=total[total[\"is_fraud\"]==1]\n",
        "fig, ax = plt.subplots()\n",
        "ax.hist(fraud.age, edgecolor = \"black\", bins = 5, color=randomcolor())\n",
        "plt.title(\"Number of Credit Card Frauds by Age Groups\")\n",
        "plt.show()"
      ],
      "metadata": {
        "colab": {
          "base_uri": "https://localhost:8080/",
          "height": 281
        },
        "id": "p2Q9hd0uufCg",
        "outputId": "54d239cc-2b1d-4938-aac6-1131fa957801"
      },
      "execution_count": null,
      "outputs": [
        {
          "output_type": "display_data",
          "data": {
            "text/plain": [
              "<Figure size 432x288 with 1 Axes>"
            ],
            "image/png": "[encoded data removed]"
          },
          "metadata": {
            "needs_background": "light"
          }
        }
      ]
    },
    {
      "cell_type": "code",
      "source": [
        "total['trans_month'] = pd.DatetimeIndex(total['trans_date']).month\n",
        "total['trans_year'] = pd.DatetimeIndex(total['trans_date']).year\n",
        "\n"
      ],
      "metadata": {
        "id": "9fO4phcuuhtO"
      },
      "execution_count": null,
      "outputs": []
    },
    {
      "cell_type": "code",
      "source": [
        "\n",
        "import calendar\n",
        "total['Month_name'] = total['trans_month'].apply(lambda x: calendar.month_abbr[x])\n"
      ],
      "metadata": {
        "id": "KvFWudzwunF6"
      },
      "execution_count": null,
      "outputs": []
    },
    {
      "cell_type": "code",
      "source": [
        "\n",
        "sns.countplot(total[total[\"is_fraud\"]==1][\"Month_name\"],color=randomcolor())\n",
        "plt.title(\"Number of Credit Card Frauds by month\")\n",
        "plt.show()\n",
        "del total['Month_name']"
      ],
      "metadata": {
        "colab": {
          "base_uri": "https://localhost:8080/",
          "height": 351
        },
        "id": "IN-QmniMuxha",
        "outputId": "fd220624-0838-4853-a0f0-d9f83c1105da"
      },
      "execution_count": null,
      "outputs": [
        {
          "output_type": "stream",
          "name": "stderr",
          "text": [
            "/usr/local/lib/python3.8/dist-packages/seaborn/_decorators.py:36: FutureWarning: Pass the following variable as a keyword arg: x. From version 0.12, the only valid positional argument will be `data`, and passing other arguments without an explicit keyword will result in an error or misinterpretation.\n",
            "  warnings.warn(\n"
          ]
        },
        {
          "output_type": "display_data",
          "data": {
            "text/plain": [
              "<Figure size 432x288 with 1 Axes>"
            ],
            "image/png": "[encoded data removed]"
          },
          "metadata": {
            "needs_background": "light"
          }
        }
      ]
    },
    {
      "cell_type": "code",
      "source": [
        "sns.countplot(total[total[\"is_fraud\"]==1][\"gender\"],color=randomcolor())\n",
        "plt.title(\"Number of Credit Card Frauds by Gender\")\n",
        "plt.show()"
      ],
      "metadata": {
        "colab": {
          "base_uri": "https://localhost:8080/",
          "height": 350
        },
        "id": "9tYQ1m9uu0Qa",
        "outputId": "dcafb611-6cac-4873-f778-e008fc65aac5"
      },
      "execution_count": null,
      "outputs": [
        {
          "output_type": "stream",
          "name": "stderr",
          "text": [
            "/usr/local/lib/python3.8/dist-packages/seaborn/_decorators.py:36: FutureWarning: Pass the following variable as a keyword arg: x. From version 0.12, the only valid positional argument will be `data`, and passing other arguments without an explicit keyword will result in an error or misinterpretation.\n",
            "  warnings.warn(\n"
          ]
        },
        {
          "output_type": "display_data",
          "data": {
            "text/plain": [
              "<Figure size 432x288 with 1 Axes>"
            ],
            "image/png": "[encoded data removed]"
          },
          "metadata": {
            "needs_background": "light"
          }
        }
      ]
    },
    {
      "cell_type": "code",
      "source": [
        "sns.countplot(total[total[\"is_fraud\"]==1][\"trans_year\"],color=randomcolor())\n",
        "plt.title(\"Number of Credit Card Frauds by year\")\n",
        "plt.show()"
      ],
      "metadata": {
        "colab": {
          "base_uri": "https://localhost:8080/",
          "height": 351
        },
        "id": "oYjbTkPYu6Un",
        "outputId": "c4b79af0-1549-4a22-be5a-3bba8185146a"
      },
      "execution_count": null,
      "outputs": [
        {
          "output_type": "stream",
          "name": "stderr",
          "text": [
            "/usr/local/lib/python3.8/dist-packages/seaborn/_decorators.py:36: FutureWarning: Pass the following variable as a keyword arg: x. From version 0.12, the only valid positional argument will be `data`, and passing other arguments without an explicit keyword will result in an error or misinterpretation.\n",
            "  warnings.warn(\n"
          ]
        },
        {
          "output_type": "display_data",
          "data": {
            "text/plain": [
              "<Figure size 432x288 with 1 Axes>"
            ],
            "image/png": "[encoded data removed]"
          },
          "metadata": {
            "needs_background": "light"
          }
        }
      ]
    },
    {
      "cell_type": "code",
      "source": [
        "total['latitudinal_distance'] = abs(round(total['merch_lat']-total['lat'],3))\n",
        "total['longitudinal_distance'] = abs(round(total['merch_long']-total['long'],3))"
      ],
      "metadata": {
        "id": "bAgAu1KUu8Qo"
      },
      "execution_count": null,
      "outputs": []
    },
    {
      "cell_type": "code",
      "source": [
        "fraud = total[total[\"is_fraud\"]==1]\n",
        "fig, ax = plt.subplots()\n",
        "ax.hist(fraud.latitudinal_distance, edgecolor = \"black\", bins = 5, color=randomcolor())\n",
        "plt.title(\"Number of Credit Card Frauds by latitudinal distance\")\n",
        "plt.show()"
      ],
      "metadata": {
        "colab": {
          "base_uri": "https://localhost:8080/",
          "height": 281
        },
        "id": "6zEjhqhLu-T2",
        "outputId": "e42902e7-21fd-4506-c3d5-a630608b16a7"
      },
      "execution_count": null,
      "outputs": [
        {
          "output_type": "display_data",
          "data": {
            "text/plain": [
              "<Figure size 432x288 with 1 Axes>"
            ],
            "image/png": "[encoded data removed]"
          },
          "metadata": {
            "needs_background": "light"
          }
        }
      ]
    },
    {
      "cell_type": "code",
      "source": [
        "fig, ax = plt.subplots()\n",
        "ax.hist(fraud.longitudinal_distance, edgecolor = \"black\", bins = 5, color=randomcolor())\n",
        "plt.title(\"Number of Credit Card Frauds by longitudinal distance\")\n",
        "plt.show()"
      ],
      "metadata": {
        "colab": {
          "base_uri": "https://localhost:8080/",
          "height": 281
        },
        "id": "kMGBVv1iu_6e",
        "outputId": "d086d72c-02ff-4f8e-db35-099c40c03294"
      },
      "execution_count": null,
      "outputs": [
        {
          "output_type": "display_data",
          "data": {
            "text/plain": [
              "<Figure size 432x288 with 1 Axes>"
            ],
            "image/png": "[encoded data removed]"
          },
          "metadata": {
            "needs_background": "light"
          }
        }
      ]
    },
    {
      "cell_type": "code",
      "source": [
        "total.info()"
      ],
      "metadata": {
        "colab": {
          "base_uri": "https://localhost:8080/"
        },
        "id": "6XoroY8IvB3s",
        "outputId": "f22c1587-63df-4532-a313-7a348aa4fdd8"
      },
      "execution_count": null,
      "outputs": [
        {
          "output_type": "stream",
          "name": "stdout",
          "text": [
            "<class 'pandas.core.frame.DataFrame'>\n",
            "Int64Index: 27281 entries, 0 to 7814\n",
            "Data columns (total 20 columns):\n",
            " #   Column                 Non-Null Count  Dtype         \n",
            "---  ------                 --------------  -----         \n",
            " 0   trans_date_trans_time  27281 non-null  datetime64[ns]\n",
            " 1   category               27281 non-null  object        \n",
            " 2   amt                    27281 non-null  float64       \n",
            " 3   gender                 27280 non-null  object        \n",
            " 4   city                   27279 non-null  object        \n",
            " 5   state                  27279 non-null  object        \n",
            " 6   lat                    27279 non-null  float64       \n",
            " 7   long                   27279 non-null  float64       \n",
            " 8   city_pop               27279 non-null  float64       \n",
            " 9   job                    27279 non-null  object        \n",
            " 10  dob                    27279 non-null  datetime64[ns]\n",
            " 11  merch_lat              27279 non-null  float64       \n",
            " 12  merch_long             27279 non-null  float64       \n",
            " 13  is_fraud               27279 non-null  float64       \n",
            " 14  trans_date             27281 non-null  datetime64[ns]\n",
            " 15  age                    27279 non-null  float64       \n",
            " 16  trans_month            27281 non-null  int64         \n",
            " 17  trans_year             27281 non-null  int64         \n",
            " 18  latitudinal_distance   27279 non-null  float64       \n",
            " 19  longitudinal_distance  27279 non-null  float64       \n",
            "dtypes: datetime64[ns](3), float64(10), int64(2), object(5)\n",
            "memory usage: 5.4+ MB\n"
          ]
        }
      ]
    },
    {
      "cell_type": "code",
      "source": [
        "total.gender.value_counts()"
      ],
      "metadata": {
        "colab": {
          "base_uri": "https://localhost:8080/"
        },
        "id": "bIWrQ4U_vGln",
        "outputId": "da474c7e-0c78-4256-98ed-5cf7ccb5040e"
      },
      "execution_count": null,
      "outputs": [
        {
          "output_type": "execute_result",
          "data": {
            "text/plain": [
              "F    15052\n",
              "M    12228\n",
              "Name: gender, dtype: int64"
            ]
          },
          "metadata": {},
          "execution_count": 65
        }
      ]
    },
    {
      "cell_type": "code",
      "source": [
        "total.gender=total.gender.apply(lambda x: 1 if x==\"M\" else 0)\n",
        "total.gender.value_counts()"
      ],
      "metadata": {
        "colab": {
          "base_uri": "https://localhost:8080/"
        },
        "id": "re4fYf_fvJCF",
        "outputId": "41bc2d36-6fcf-41f2-8bf2-c67b0f0db53a"
      },
      "execution_count": null,
      "outputs": [
        {
          "output_type": "execute_result",
          "data": {
            "text/plain": [
              "0    15053\n",
              "1    12228\n",
              "Name: gender, dtype: int64"
            ]
          },
          "metadata": {},
          "execution_count": 66
        }
      ]
    },
    {
      "cell_type": "code",
      "source": [
        "drop_cols = ['trans_date_trans_time','city','lat','long','job','dob','merch_lat','merch_long','trans_date','state']\n",
        "total=total.drop(drop_cols,axis=1)\n",
        "total.info()"
      ],
      "metadata": {
        "colab": {
          "base_uri": "https://localhost:8080/"
        },
        "id": "QDFjEP_-vK75",
        "outputId": "6d4de0a8-b1fe-4283-f516-2524640a1cd0"
      },
      "execution_count": null,
      "outputs": [
        {
          "output_type": "stream",
          "name": "stdout",
          "text": [
            "<class 'pandas.core.frame.DataFrame'>\n",
            "Int64Index: 27281 entries, 0 to 7814\n",
            "Data columns (total 10 columns):\n",
            " #   Column                 Non-Null Count  Dtype  \n",
            "---  ------                 --------------  -----  \n",
            " 0   category               27281 non-null  object \n",
            " 1   amt                    27281 non-null  float64\n",
            " 2   gender                 27281 non-null  int64  \n",
            " 3   city_pop               27279 non-null  float64\n",
            " 4   is_fraud               27279 non-null  float64\n",
            " 5   age                    27279 non-null  float64\n",
            " 6   trans_month            27281 non-null  int64  \n",
            " 7   trans_year             27281 non-null  int64  \n",
            " 8   latitudinal_distance   27279 non-null  float64\n",
            " 9   longitudinal_distance  27279 non-null  float64\n",
            "dtypes: float64(6), int64(3), object(1)\n",
            "memory usage: 3.3+ MB\n"
          ]
        }
      ]
    },
    {
      "cell_type": "code",
      "source": [
        "total = pd.get_dummies(total,columns=['category'],drop_first=True)\n",
        "total.info()"
      ],
      "metadata": {
        "colab": {
          "base_uri": "https://localhost:8080/"
        },
        "id": "j23HPPH5vMrl",
        "outputId": "d23baea3-1b4a-4e6e-cbd5-b2a34f3f9d77"
      },
      "execution_count": null,
      "outputs": [
        {
          "output_type": "stream",
          "name": "stdout",
          "text": [
            "<class 'pandas.core.frame.DataFrame'>\n",
            "Int64Index: 27281 entries, 0 to 7814\n",
            "Data columns (total 22 columns):\n",
            " #   Column                   Non-Null Count  Dtype  \n",
            "---  ------                   --------------  -----  \n",
            " 0   amt                      27281 non-null  float64\n",
            " 1   gender                   27281 non-null  int64  \n",
            " 2   city_pop                 27279 non-null  float64\n",
            " 3   is_fraud                 27279 non-null  float64\n",
            " 4   age                      27279 non-null  float64\n",
            " 5   trans_month              27281 non-null  int64  \n",
            " 6   trans_year               27281 non-null  int64  \n",
            " 7   latitudinal_distance     27279 non-null  float64\n",
            " 8   longitudinal_distance    27279 non-null  float64\n",
            " 9   category_food_dining     27281 non-null  uint8  \n",
            " 10  category_gas_transport   27281 non-null  uint8  \n",
            " 11  category_grocery_net     27281 non-null  uint8  \n",
            " 12  category_grocery_pos     27281 non-null  uint8  \n",
            " 13  category_health_fitness  27281 non-null  uint8  \n",
            " 14  category_home            27281 non-null  uint8  \n",
            " 15  category_kids_pets       27281 non-null  uint8  \n",
            " 16  category_misc_net        27281 non-null  uint8  \n",
            " 17  category_misc_pos        27281 non-null  uint8  \n",
            " 18  category_personal_care   27281 non-null  uint8  \n",
            " 19  category_shopping_net    27281 non-null  uint8  \n",
            " 20  category_shopping_pos    27281 non-null  uint8  \n",
            " 21  category_travel          27281 non-null  uint8  \n",
            "dtypes: float64(6), int64(3), uint8(13)\n",
            "memory usage: 3.4 MB\n"
          ]
        }
      ]
    },
    {
      "cell_type": "code",
      "source": [
        "total.head()"
      ],
      "metadata": {
        "colab": {
          "base_uri": "https://localhost:8080/",
          "height": 300
        },
        "id": "YZaSV1s4vPN5",
        "outputId": "3fe1471a-0970-4822-fd0f-c01e1f17a20d"
      },
      "execution_count": null,
      "outputs": [
        {
          "output_type": "execute_result",
          "data": {
            "text/plain": [
              "     amt  gender  city_pop  is_fraud   age  trans_month  trans_year  \\\n",
              "0   2.86       1  333497.0       0.0  52.0            6        2020   \n",
              "1  29.84       0     302.0       0.0  30.0            6        2020   \n",
              "2  41.28       0   34496.0       0.0  49.0            6        2020   \n",
              "3  60.05       1   54767.0       0.0  32.0            6        2020   \n",
              "4   3.19       1    1126.0       0.0  64.0            6        2020   \n",
              "\n",
              "   latitudinal_distance  longitudinal_distance  category_food_dining  ...  \\\n",
              "0                 0.020                  0.265                     0  ...   \n",
              "1                 0.870                  0.476                     0  ...   \n",
              "2                 0.177                  0.660                     0  ...   \n",
              "3                 0.243                  0.064                     0  ...   \n",
              "4                 0.706                  0.868                     0  ...   \n",
              "\n",
              "   category_grocery_pos  category_health_fitness  category_home  \\\n",
              "0                     0                        0              0   \n",
              "1                     0                        0              0   \n",
              "2                     0                        1              0   \n",
              "3                     0                        0              0   \n",
              "4                     0                        0              0   \n",
              "\n",
              "   category_kids_pets  category_misc_net  category_misc_pos  \\\n",
              "0                   0                  0                  0   \n",
              "1                   0                  0                  0   \n",
              "2                   0                  0                  0   \n",
              "3                   0                  0                  1   \n",
              "4                   0                  0                  0   \n",
              "\n",
              "   category_personal_care  category_shopping_net  category_shopping_pos  \\\n",
              "0                       1                      0                      0   \n",
              "1                       1                      0                      0   \n",
              "2                       0                      0                      0   \n",
              "3                       0                      0                      0   \n",
              "4                       0                      0                      0   \n",
              "\n",
              "   category_travel  \n",
              "0                0  \n",
              "1                0  \n",
              "2                0  \n",
              "3                0  \n",
              "4                1  \n",
              "\n",
              "[5 rows x 22 columns]"
            ],
            "text/html": [
              "\n",
              "  <div id=\"df-39e4ca37-d9cf-449e-bf15-815cc54ddc0f\">\n",
              "    <div class=\"colab-df-container\">\n",
              "      <div>\n",
              "<style scoped>\n",
              "    .dataframe tbody tr th:only-of-type {\n",
              "        vertical-align: middle;\n",
              "    }\n",
              "\n",
              "    .dataframe tbody tr th {\n",
              "        vertical-align: top;\n",
              "    }\n",
              "\n",
              "    .dataframe thead th {\n",
              "        text-align: right;\n",
              "    }\n",
              "</style>\n",
              "<table border=\"1\" class=\"dataframe\">\n",
              "  <thead>\n",
              "    <tr style=\"text-align: right;\">\n",
              "      <th></th>\n",
              "      <th>amt</th>\n",
              "      <th>gender</th>\n",
              "      <th>city_pop</th>\n",
              "      <th>is_fraud</th>\n",
              "      <th>age</th>\n",
              "      <th>trans_month</th>\n",
              "      <th>trans_year</th>\n",
              "      <th>latitudinal_distance</th>\n",
              "      <th>longitudinal_distance</th>\n",
              "      <th>category_food_dining</th>\n",
              "      <th>...</th>\n",
              "      <th>category_grocery_pos</th>\n",
              "      <th>category_health_fitness</th>\n",
              "      <th>category_home</th>\n",
              "      <th>category_kids_pets</th>\n",
              "      <th>category_misc_net</th>\n",
              "      <th>category_misc_pos</th>\n",
              "      <th>category_personal_care</th>\n",
              "      <th>category_shopping_net</th>\n",
              "      <th>category_shopping_pos</th>\n",
              "      <th>category_travel</th>\n",
              "    </tr>\n",
              "  </thead>\n",
              "  <tbody>\n",
              "    <tr>\n",
              "      <th>0</th>\n",
              "      <td>2.86</td>\n",
              "      <td>1</td>\n",
              "      <td>333497.0</td>\n",
              "      <td>0.0</td>\n",
              "      <td>52.0</td>\n",
              "      <td>6</td>\n",
              "      <td>2020</td>\n",
              "      <td>0.020</td>\n",
              "      <td>0.265</td>\n",
              "      <td>0</td>\n",
              "      <td>...</td>\n",
              "      <td>0</td>\n",
              "      <td>0</td>\n",
              "      <td>0</td>\n",
              "      <td>0</td>\n",
              "      <td>0</td>\n",
              "      <td>0</td>\n",
              "      <td>1</td>\n",
              "      <td>0</td>\n",
              "      <td>0</td>\n",
              "      <td>0</td>\n",
              "    </tr>\n",
              "    <tr>\n",
              "      <th>1</th>\n",
              "      <td>29.84</td>\n",
              "      <td>0</td>\n",
              "      <td>302.0</td>\n",
              "      <td>0.0</td>\n",
              "      <td>30.0</td>\n",
              "      <td>6</td>\n",
              "      <td>2020</td>\n",
              "      <td>0.870</td>\n",
              "      <td>0.476</td>\n",
              "      <td>0</td>\n",
              "      <td>...</td>\n",
              "      <td>0</td>\n",
              "      <td>0</td>\n",
              "      <td>0</td>\n",
              "      <td>0</td>\n",
              "      <td>0</td>\n",
              "      <td>0</td>\n",
              "      <td>1</td>\n",
              "      <td>0</td>\n",
              "      <td>0</td>\n",
              "      <td>0</td>\n",
              "    </tr>\n",
              "    <tr>\n",
              "      <th>2</th>\n",
              "      <td>41.28</td>\n",
              "      <td>0</td>\n",
              "      <td>34496.0</td>\n",
              "      <td>0.0</td>\n",
              "      <td>49.0</td>\n",
              "      <td>6</td>\n",
              "      <td>2020</td>\n",
              "      <td>0.177</td>\n",
              "      <td>0.660</td>\n",
              "      <td>0</td>\n",
              "      <td>...</td>\n",
              "      <td>0</td>\n",
              "      <td>1</td>\n",
              "      <td>0</td>\n",
              "      <td>0</td>\n",
              "      <td>0</td>\n",
              "      <td>0</td>\n",
              "      <td>0</td>\n",
              "      <td>0</td>\n",
              "      <td>0</td>\n",
              "      <td>0</td>\n",
              "    </tr>\n",
              "    <tr>\n",
              "      <th>3</th>\n",
              "      <td>60.05</td>\n",
              "      <td>1</td>\n",
              "      <td>54767.0</td>\n",
              "      <td>0.0</td>\n",
              "      <td>32.0</td>\n",
              "      <td>6</td>\n",
              "      <td>2020</td>\n",
              "      <td>0.243</td>\n",
              "      <td>0.064</td>\n",
              "      <td>0</td>\n",
              "      <td>...</td>\n",
              "      <td>0</td>\n",
              "      <td>0</td>\n",
              "      <td>0</td>\n",
              "      <td>0</td>\n",
              "      <td>0</td>\n",
              "      <td>1</td>\n",
              "      <td>0</td>\n",
              "      <td>0</td>\n",
              "      <td>0</td>\n",
              "      <td>0</td>\n",
              "    </tr>\n",
              "    <tr>\n",
              "      <th>4</th>\n",
              "      <td>3.19</td>\n",
              "      <td>1</td>\n",
              "      <td>1126.0</td>\n",
              "      <td>0.0</td>\n",
              "      <td>64.0</td>\n",
              "      <td>6</td>\n",
              "      <td>2020</td>\n",
              "      <td>0.706</td>\n",
              "      <td>0.868</td>\n",
              "      <td>0</td>\n",
              "      <td>...</td>\n",
              "      <td>0</td>\n",
              "      <td>0</td>\n",
              "      <td>0</td>\n",
              "      <td>0</td>\n",
              "      <td>0</td>\n",
              "      <td>0</td>\n",
              "      <td>0</td>\n",
              "      <td>0</td>\n",
              "      <td>0</td>\n",
              "      <td>1</td>\n",
              "    </tr>\n",
              "  </tbody>\n",
              "</table>\n",
              "<p>5 rows × 22 columns</p>\n",
              "</div>\n",
              "      <button class=\"colab-df-convert\" onclick=\"convertToInteractive('df-39e4ca37-d9cf-449e-bf15-815cc54ddc0f')\"\n",
              "              title=\"Convert this dataframe to an interactive table.\"\n",
              "              style=\"display:none;\">\n",
              "        \n",
              "  <svg xmlns=\"http://www.w3.org/2000/svg\" height=\"24px\"viewBox=\"0 0 24 24\"\n",
              "       width=\"24px\">\n",
              "    <path d=\"M0 0h24v24H0V0z\" fill=\"none\"/>\n",
              "    <path d=\"M18.56 5.44l.94 2.06.94-2.06 2.06-.94-2.06-.94-.94-2.06-.94 2.06-2.06.94zm-11 1L8.5 8.5l.94-2.06 2.06-.94-2.06-.94L8.5 2.5l-.94 2.06-2.06.94zm10 10l.94 2.06.94-2.06 2.06-.94-2.06-.94-.94-2.06-.94 2.06-2.06.94z\"/><path d=\"M17.41 7.96l-1.37-1.37c-.4-.4-.92-.59-1.43-.59-.52 0-1.04.2-1.43.59L10.3 9.45l-7.72 7.72c-.78.78-.78 2.05 0 2.83L4 21.41c.39.39.9.59 1.41.59.51 0 1.02-.2 1.41-.59l7.78-7.78 2.81-2.81c.8-.78.8-2.07 0-2.86zM5.41 20L4 18.59l7.72-7.72 1.47 1.35L5.41 20z\"/>\n",
              "  </svg>\n",
              "      </button>\n",
              "      \n",
              "  <style>\n",
              "    .colab-df-container {\n",
              "      display:flex;\n",
              "      flex-wrap:wrap;\n",
              "      gap: 12px;\n",
              "    }\n",
              "\n",
              "    .colab-df-convert {\n",
              "      background-color: #E8F0FE;\n",
              "      border: none;\n",
              "      border-radius: 50%;\n",
              "      cursor: pointer;\n",
              "      display: none;\n",
              "      fill: #1967D2;\n",
              "      height: 32px;\n",
              "      padding: 0 0 0 0;\n",
              "      width: 32px;\n",
              "    }\n",
              "\n",
              "    .colab-df-convert:hover {\n",
              "      background-color: #E2EBFA;\n",
              "      box-shadow: 0px 1px 2px rgba(60, 64, 67, 0.3), 0px 1px 3px 1px rgba(60, 64, 67, 0.15);\n",
              "      fill: #174EA6;\n",
              "    }\n",
              "\n",
              "    [theme=dark] .colab-df-convert {\n",
              "      background-color: #3B4455;\n",
              "      fill: #D2E3FC;\n",
              "    }\n",
              "\n",
              "    [theme=dark] .colab-df-convert:hover {\n",
              "      background-color: #434B5C;\n",
              "      box-shadow: 0px 1px 3px 1px rgba(0, 0, 0, 0.15);\n",
              "      filter: drop-shadow(0px 1px 2px rgba(0, 0, 0, 0.3));\n",
              "      fill: #FFFFFF;\n",
              "    }\n",
              "  </style>\n",
              "\n",
              "      <script>\n",
              "        const buttonEl =\n",
              "          document.querySelector('#df-39e4ca37-d9cf-449e-bf15-815cc54ddc0f button.colab-df-convert');\n",
              "        buttonEl.style.display =\n",
              "          google.colab.kernel.accessAllowed ? 'block' : 'none';\n",
              "\n",
              "        async function convertToInteractive(key) {\n",
              "          const element = document.querySelector('#df-39e4ca37-d9cf-449e-bf15-815cc54ddc0f');\n",
              "          const dataTable =\n",
              "            await google.colab.kernel.invokeFunction('convertToInteractive',\n",
              "                                                     [key], {});\n",
              "          if (!dataTable) return;\n",
              "\n",
              "          const docLinkHtml = 'Like what you see? Visit the ' +\n",
              "            '<a target=\"_blank\" href=https://colab.research.google.com/notebooks/data_table.ipynb>data table notebook</a>'\n",
              "            + ' to learn more about interactive tables.';\n",
              "          element.innerHTML = '';\n",
              "          dataTable['output_type'] = 'display_data';\n",
              "          await google.colab.output.renderOutput(dataTable, element);\n",
              "          const docLink = document.createElement('div');\n",
              "          docLink.innerHTML = docLinkHtml;\n",
              "          element.appendChild(docLink);\n",
              "        }\n",
              "      </script>\n",
              "    </div>\n",
              "  </div>\n",
              "  "
            ]
          },
          "metadata": {},
          "execution_count": 69
        }
      ]
    },
    {
      "cell_type": "code",
      "source": [
        "from sklearn.model_selection import train_test_split"
      ],
      "metadata": {
        "id": "YUBocVptvRsk"
      },
      "execution_count": null,
      "outputs": []
    },
    {
      "cell_type": "code",
      "source": [
        "from sklearn.utils import resample"
      ],
      "metadata": {
        "id": "4Vpf8gkAvUeq"
      },
      "execution_count": null,
      "outputs": []
    },
    {
      "cell_type": "code",
      "source": [
        "#create two different dataframe of majority and minority class \n",
        "df_majority = total[(total['is_fraud']==0)] \n",
        "df_minority = total[(total['is_fraud']==1)] \n",
        "\n",
        "df_majority.shape,df_minority.shape"
      ],
      "metadata": {
        "colab": {
          "base_uri": "https://localhost:8080/"
        },
        "id": "cSHgUdS1vWuf",
        "outputId": "8773a2e7-0e94-4844-8ae9-88a67c3e6da8"
      },
      "execution_count": null,
      "outputs": [
        {
          "output_type": "execute_result",
          "data": {
            "text/plain": [
              "((27166, 22), (113, 22))"
            ]
          },
          "metadata": {},
          "execution_count": 72
        }
      ]
    },
    {
      "cell_type": "code",
      "source": [
        "# upsample minority class\n",
        "df_minority_upsampled = resample(df_minority, \n",
        "                                 replace=True,    # sample with replacement\n",
        "                                 n_samples= 1842743, # to match majority class\n",
        "                                 random_state=42)  # reproducible results\n",
        "df_minority_upsampled.shape"
      ],
      "metadata": {
        "colab": {
          "base_uri": "https://localhost:8080/"
        },
        "id": "iQij79gKvaCe",
        "outputId": "ba49257e-2f25-404d-d863-c8df526ebac8"
      },
      "execution_count": null,
      "outputs": [
        {
          "output_type": "execute_result",
          "data": {
            "text/plain": [
              "(1842743, 22)"
            ]
          },
          "metadata": {},
          "execution_count": 73
        }
      ]
    },
    {
      "cell_type": "code",
      "source": [
        "# Combine majority class with upsampled minority class\n",
        "total_upsampled = pd.concat([df_minority_upsampled, df_majority])\n",
        "total_upsampled.shape"
      ],
      "metadata": {
        "colab": {
          "base_uri": "https://localhost:8080/"
        },
        "id": "RjadyNGvvcd9",
        "outputId": "c640364f-27fa-484b-d040-ebb1046975b2"
      },
      "execution_count": null,
      "outputs": [
        {
          "output_type": "execute_result",
          "data": {
            "text/plain": [
              "(1869909, 22)"
            ]
          },
          "metadata": {},
          "execution_count": 74
        }
      ]
    },
    {
      "cell_type": "code",
      "source": [
        "x_cols = list(total_upsampled.columns)\n",
        "x_cols.remove('is_fraud')\n",
        "x_cols"
      ],
      "metadata": {
        "colab": {
          "base_uri": "https://localhost:8080/"
        },
        "id": "q6UEZX33ve0K",
        "outputId": "de1706ce-bba9-40fc-908b-d690546aa8b8"
      },
      "execution_count": null,
      "outputs": [
        {
          "output_type": "execute_result",
          "data": {
            "text/plain": [
              "['amt',\n",
              " 'gender',\n",
              " 'city_pop',\n",
              " 'age',\n",
              " 'trans_month',\n",
              " 'trans_year',\n",
              " 'latitudinal_distance',\n",
              " 'longitudinal_distance',\n",
              " 'category_food_dining',\n",
              " 'category_gas_transport',\n",
              " 'category_grocery_net',\n",
              " 'category_grocery_pos',\n",
              " 'category_health_fitness',\n",
              " 'category_home',\n",
              " 'category_kids_pets',\n",
              " 'category_misc_net',\n",
              " 'category_misc_pos',\n",
              " 'category_personal_care',\n",
              " 'category_shopping_net',\n",
              " 'category_shopping_pos',\n",
              " 'category_travel']"
            ]
          },
          "metadata": {},
          "execution_count": 75
        }
      ]
    },
    {
      "cell_type": "code",
      "source": [
        "X = total_upsampled[x_cols]\n",
        "Y = total_upsampled['is_fraud']\n",
        "X.info()"
      ],
      "metadata": {
        "colab": {
          "base_uri": "https://localhost:8080/"
        },
        "id": "UtqKd9TMvgyy",
        "outputId": "006548c2-57f6-473a-8ee2-133fc820c40c"
      },
      "execution_count": null,
      "outputs": [
        {
          "output_type": "stream",
          "name": "stdout",
          "text": [
            "<class 'pandas.core.frame.DataFrame'>\n",
            "Int64Index: 1869909 entries, 6778 to 7813\n",
            "Data columns (total 21 columns):\n",
            " #   Column                   Dtype  \n",
            "---  ------                   -----  \n",
            " 0   amt                      float64\n",
            " 1   gender                   int64  \n",
            " 2   city_pop                 float64\n",
            " 3   age                      float64\n",
            " 4   trans_month              int64  \n",
            " 5   trans_year               int64  \n",
            " 6   latitudinal_distance     float64\n",
            " 7   longitudinal_distance    float64\n",
            " 8   category_food_dining     uint8  \n",
            " 9   category_gas_transport   uint8  \n",
            " 10  category_grocery_net     uint8  \n",
            " 11  category_grocery_pos     uint8  \n",
            " 12  category_health_fitness  uint8  \n",
            " 13  category_home            uint8  \n",
            " 14  category_kids_pets       uint8  \n",
            " 15  category_misc_net        uint8  \n",
            " 16  category_misc_pos        uint8  \n",
            " 17  category_personal_care   uint8  \n",
            " 18  category_shopping_net    uint8  \n",
            " 19  category_shopping_pos    uint8  \n",
            " 20  category_travel          uint8  \n",
            "dtypes: float64(5), int64(3), uint8(13)\n",
            "memory usage: 151.6 MB\n"
          ]
        }
      ]
    },
    {
      "cell_type": "code",
      "source": [
        "X_train, X_test, Y_train, Y_test = train_test_split(\n",
        " X, Y, test_size=0.3, random_state=42)"
      ],
      "metadata": {
        "id": "qAHvSmk0vjKc"
      },
      "execution_count": null,
      "outputs": []
    },
    {
      "cell_type": "code",
      "source": [
        "from sklearn.linear_model import LogisticRegression\n",
        "from sklearn.experimental import enable_halving_search_cv\n",
        "from sklearn.metrics import accuracy_score, mean_absolute_error ,mean_squared_error, confusion_matrix, median_absolute_error,classification_report, f1_score,recall_score,precision_score\n",
        "from sklearn.tree import DecisionTreeClassifier\n",
        "from sklearn.preprocessing import StandardScaler\n",
        "from sklearn.metrics import plot_roc_curve\n",
        "from sklearn.model_selection import HalvingRandomSearchCV,RandomizedSearchCV"
      ],
      "metadata": {
        "id": "acnXiBC1vlxf"
      },
      "execution_count": null,
      "outputs": []
    },
    {
      "cell_type": "code",
      "source": [
        "sc= StandardScaler()\n",
        "X_train_std=sc.fit_transform(X_train)\n",
        "X_test_std = sc.fit_transform(X_test)"
      ],
      "metadata": {
        "id": "vfFKyDEZvosB"
      },
      "execution_count": null,
      "outputs": []
    },
    {
      "cell_type": "code",
      "source": [
        "logit_model= LogisticRegression(solver='liblinear')\n",
        "logit_model.fit(X_train_std, Y_train)"
      ],
      "metadata": {
        "colab": {
          "base_uri": "https://localhost:8080/"
        },
        "id": "QTkb75r_vrBc",
        "outputId": "0f80db5f-36d3-4999-9422-b149bccc4577"
      },
      "execution_count": null,
      "outputs": [
        {
          "output_type": "execute_result",
          "data": {
            "text/plain": [
              "LogisticRegression(solver='liblinear')"
            ]
          },
          "metadata": {},
          "execution_count": 80
        }
      ]
    },
    {
      "cell_type": "code",
      "source": [
        "feature= pd.DataFrame()\n",
        "feature['column']= X_train.columns\n",
        "feature['importance']= logit_model.coef_[0]\n",
        "feature.sort_values('importance', ascending=False, inplace=True)\n",
        "feature"
      ],
      "metadata": {
        "colab": {
          "base_uri": "https://localhost:8080/",
          "height": 708
        },
        "id": "hUF2G3tAvtwg",
        "outputId": "bc4bbbb7-4cd6-472d-dfd8-ff9524471aba"
      },
      "execution_count": null,
      "outputs": [
        {
          "output_type": "execute_result",
          "data": {
            "text/plain": [
              "                     column  importance\n",
              "0                       amt    8.443620\n",
              "9    category_gas_transport    2.791260\n",
              "11     category_grocery_pos    2.345069\n",
              "12  category_health_fitness    1.934591\n",
              "20          category_travel    1.660043\n",
              "16        category_misc_pos    1.531819\n",
              "10     category_grocery_net    1.284326\n",
              "17   category_personal_care    1.229627\n",
              "3                       age    1.007725\n",
              "8      category_food_dining    0.924265\n",
              "13            category_home    0.702112\n",
              "14       category_kids_pets    0.690855\n",
              "2                  city_pop    0.122608\n",
              "4               trans_month    0.040310\n",
              "5                trans_year    0.040310\n",
              "1                    gender   -0.154067\n",
              "7     longitudinal_distance   -0.251820\n",
              "6      latitudinal_distance   -0.317595\n",
              "15        category_misc_net   -0.351915\n",
              "19    category_shopping_pos   -0.801817\n",
              "18    category_shopping_net   -1.919783"
            ],
            "text/html": [
              "\n",
              "  <div id=\"df-2af15fa3-f767-4799-8f9c-0e3bf3b3c3e6\">\n",
              "    <div class=\"colab-df-container\">\n",
              "      <div>\n",
              "<style scoped>\n",
              "    .dataframe tbody tr th:only-of-type {\n",
              "        vertical-align: middle;\n",
              "    }\n",
              "\n",
              "    .dataframe tbody tr th {\n",
              "        vertical-align: top;\n",
              "    }\n",
              "\n",
              "    .dataframe thead th {\n",
              "        text-align: right;\n",
              "    }\n",
              "</style>\n",
              "<table border=\"1\" class=\"dataframe\">\n",
              "  <thead>\n",
              "    <tr style=\"text-align: right;\">\n",
              "      <th></th>\n",
              "      <th>column</th>\n",
              "      <th>importance</th>\n",
              "    </tr>\n",
              "  </thead>\n",
              "  <tbody>\n",
              "    <tr>\n",
              "      <th>0</th>\n",
              "      <td>amt</td>\n",
              "      <td>8.443620</td>\n",
              "    </tr>\n",
              "    <tr>\n",
              "      <th>9</th>\n",
              "      <td>category_gas_transport</td>\n",
              "      <td>2.791260</td>\n",
              "    </tr>\n",
              "    <tr>\n",
              "      <th>11</th>\n",
              "      <td>category_grocery_pos</td>\n",
              "      <td>2.345069</td>\n",
              "    </tr>\n",
              "    <tr>\n",
              "      <th>12</th>\n",
              "      <td>category_health_fitness</td>\n",
              "      <td>1.934591</td>\n",
              "    </tr>\n",
              "    <tr>\n",
              "      <th>20</th>\n",
              "      <td>category_travel</td>\n",
              "      <td>1.660043</td>\n",
              "    </tr>\n",
              "    <tr>\n",
              "      <th>16</th>\n",
              "      <td>category_misc_pos</td>\n",
              "      <td>1.531819</td>\n",
              "    </tr>\n",
              "    <tr>\n",
              "      <th>10</th>\n",
              "      <td>category_grocery_net</td>\n",
              "      <td>1.284326</td>\n",
              "    </tr>\n",
              "    <tr>\n",
              "      <th>17</th>\n",
              "      <td>category_personal_care</td>\n",
              "      <td>1.229627</td>\n",
              "    </tr>\n",
              "    <tr>\n",
              "      <th>3</th>\n",
              "      <td>age</td>\n",
              "      <td>1.007725</td>\n",
              "    </tr>\n",
              "    <tr>\n",
              "      <th>8</th>\n",
              "      <td>category_food_dining</td>\n",
              "      <td>0.924265</td>\n",
              "    </tr>\n",
              "    <tr>\n",
              "      <th>13</th>\n",
              "      <td>category_home</td>\n",
              "      <td>0.702112</td>\n",
              "    </tr>\n",
              "    <tr>\n",
              "      <th>14</th>\n",
              "      <td>category_kids_pets</td>\n",
              "      <td>0.690855</td>\n",
              "    </tr>\n",
              "    <tr>\n",
              "      <th>2</th>\n",
              "      <td>city_pop</td>\n",
              "      <td>0.122608</td>\n",
              "    </tr>\n",
              "    <tr>\n",
              "      <th>4</th>\n",
              "      <td>trans_month</td>\n",
              "      <td>0.040310</td>\n",
              "    </tr>\n",
              "    <tr>\n",
              "      <th>5</th>\n",
              "      <td>trans_year</td>\n",
              "      <td>0.040310</td>\n",
              "    </tr>\n",
              "    <tr>\n",
              "      <th>1</th>\n",
              "      <td>gender</td>\n",
              "      <td>-0.154067</td>\n",
              "    </tr>\n",
              "    <tr>\n",
              "      <th>7</th>\n",
              "      <td>longitudinal_distance</td>\n",
              "      <td>-0.251820</td>\n",
              "    </tr>\n",
              "    <tr>\n",
              "      <th>6</th>\n",
              "      <td>latitudinal_distance</td>\n",
              "      <td>-0.317595</td>\n",
              "    </tr>\n",
              "    <tr>\n",
              "      <th>15</th>\n",
              "      <td>category_misc_net</td>\n",
              "      <td>-0.351915</td>\n",
              "    </tr>\n",
              "    <tr>\n",
              "      <th>19</th>\n",
              "      <td>category_shopping_pos</td>\n",
              "      <td>-0.801817</td>\n",
              "    </tr>\n",
              "    <tr>\n",
              "      <th>18</th>\n",
              "      <td>category_shopping_net</td>\n",
              "      <td>-1.919783</td>\n",
              "    </tr>\n",
              "  </tbody>\n",
              "</table>\n",
              "</div>\n",
              "      <button class=\"colab-df-convert\" onclick=\"convertToInteractive('df-2af15fa3-f767-4799-8f9c-0e3bf3b3c3e6')\"\n",
              "              title=\"Convert this dataframe to an interactive table.\"\n",
              "              style=\"display:none;\">\n",
              "        \n",
              "  <svg xmlns=\"http://www.w3.org/2000/svg\" height=\"24px\"viewBox=\"0 0 24 24\"\n",
              "       width=\"24px\">\n",
              "    <path d=\"M0 0h24v24H0V0z\" fill=\"none\"/>\n",
              "    <path d=\"M18.56 5.44l.94 2.06.94-2.06 2.06-.94-2.06-.94-.94-2.06-.94 2.06-2.06.94zm-11 1L8.5 8.5l.94-2.06 2.06-.94-2.06-.94L8.5 2.5l-.94 2.06-2.06.94zm10 10l.94 2.06.94-2.06 2.06-.94-2.06-.94-.94-2.06-.94 2.06-2.06.94z\"/><path d=\"M17.41 7.96l-1.37-1.37c-.4-.4-.92-.59-1.43-.59-.52 0-1.04.2-1.43.59L10.3 9.45l-7.72 7.72c-.78.78-.78 2.05 0 2.83L4 21.41c.39.39.9.59 1.41.59.51 0 1.02-.2 1.41-.59l7.78-7.78 2.81-2.81c.8-.78.8-2.07 0-2.86zM5.41 20L4 18.59l7.72-7.72 1.47 1.35L5.41 20z\"/>\n",
              "  </svg>\n",
              "      </button>\n",
              "      \n",
              "  <style>\n",
              "    .colab-df-container {\n",
              "      display:flex;\n",
              "      flex-wrap:wrap;\n",
              "      gap: 12px;\n",
              "    }\n",
              "\n",
              "    .colab-df-convert {\n",
              "      background-color: #E8F0FE;\n",
              "      border: none;\n",
              "      border-radius: 50%;\n",
              "      cursor: pointer;\n",
              "      display: none;\n",
              "      fill: #1967D2;\n",
              "      height: 32px;\n",
              "      padding: 0 0 0 0;\n",
              "      width: 32px;\n",
              "    }\n",
              "\n",
              "    .colab-df-convert:hover {\n",
              "      background-color: #E2EBFA;\n",
              "      box-shadow: 0px 1px 2px rgba(60, 64, 67, 0.3), 0px 1px 3px 1px rgba(60, 64, 67, 0.15);\n",
              "      fill: #174EA6;\n",
              "    }\n",
              "\n",
              "    [theme=dark] .colab-df-convert {\n",
              "      background-color: #3B4455;\n",
              "      fill: #D2E3FC;\n",
              "    }\n",
              "\n",
              "    [theme=dark] .colab-df-convert:hover {\n",
              "      background-color: #434B5C;\n",
              "      box-shadow: 0px 1px 3px 1px rgba(0, 0, 0, 0.15);\n",
              "      filter: drop-shadow(0px 1px 2px rgba(0, 0, 0, 0.3));\n",
              "      fill: #FFFFFF;\n",
              "    }\n",
              "  </style>\n",
              "\n",
              "      <script>\n",
              "        const buttonEl =\n",
              "          document.querySelector('#df-2af15fa3-f767-4799-8f9c-0e3bf3b3c3e6 button.colab-df-convert');\n",
              "        buttonEl.style.display =\n",
              "          google.colab.kernel.accessAllowed ? 'block' : 'none';\n",
              "\n",
              "        async function convertToInteractive(key) {\n",
              "          const element = document.querySelector('#df-2af15fa3-f767-4799-8f9c-0e3bf3b3c3e6');\n",
              "          const dataTable =\n",
              "            await google.colab.kernel.invokeFunction('convertToInteractive',\n",
              "                                                     [key], {});\n",
              "          if (!dataTable) return;\n",
              "\n",
              "          const docLinkHtml = 'Like what you see? Visit the ' +\n",
              "            '<a target=\"_blank\" href=https://colab.research.google.com/notebooks/data_table.ipynb>data table notebook</a>'\n",
              "            + ' to learn more about interactive tables.';\n",
              "          element.innerHTML = '';\n",
              "          dataTable['output_type'] = 'display_data';\n",
              "          await google.colab.output.renderOutput(dataTable, element);\n",
              "          const docLink = document.createElement('div');\n",
              "          docLink.innerHTML = docLinkHtml;\n",
              "          element.appendChild(docLink);\n",
              "        }\n",
              "      </script>\n",
              "    </div>\n",
              "  </div>\n",
              "  "
            ]
          },
          "metadata": {},
          "execution_count": 81
        }
      ]
    },
    {
      "cell_type": "code",
      "source": [
        "Logit1=LogisticRegression(solver='liblinear')\n",
        "\n",
        "Logit1.fit(X_train_std,Y_train)\n",
        "\n",
        "print(\"Score of the model with X-train and Y-train is : \", str(round(Logit1.score(X_train,Y_train)*100,2)),\"%\")\n",
        "print(\"Score of the model with X-test and Y-test is : \", str(round(Logit1.score(X_test,Y_test)*100,2)),\"%\")\n",
        "\n",
        "Y_pred=Logit1.predict(X_test_std)\n",
        "\n",
        "print( \" Mean absolute error is \",( mean_absolute_error(Y_test,Y_pred)))\n",
        "print(\" Mean squared  error is \" , mean_squared_error(Y_test,Y_pred))\n",
        "print(\" Median absolute error is \" ,median_absolute_error(Y_test,Y_pred)) \n",
        "print(\"Accuracy is \" , round(accuracy_score(Y_test,Y_pred)*100,2),\"%\")\n",
        "print(\"F1 score: \", round(f1_score(Y_test, Y_pred, average='weighted')*100,2),\"%\")"
      ],
      "metadata": {
        "colab": {
          "base_uri": "https://localhost:8080/"
        },
        "id": "HzNfoyLcvwS_",
        "outputId": "7cd9e1f0-50db-4fb5-ba9f-1992a85cbad7"
      },
      "execution_count": null,
      "outputs": [
        {
          "output_type": "stream",
          "name": "stderr",
          "text": [
            "/usr/local/lib/python3.8/dist-packages/sklearn/base.py:443: UserWarning: X has feature names, but LogisticRegression was fitted without feature names\n",
            "  warnings.warn(\n"
          ]
        },
        {
          "output_type": "stream",
          "name": "stdout",
          "text": [
            "Score of the model with X-train and Y-train is :  98.54 %\n",
            "Score of the model with X-test and Y-test is :  98.56 %\n"
          ]
        },
        {
          "output_type": "stream",
          "name": "stderr",
          "text": [
            "/usr/local/lib/python3.8/dist-packages/sklearn/base.py:443: UserWarning: X has feature names, but LogisticRegression was fitted without feature names\n",
            "  warnings.warn(\n"
          ]
        },
        {
          "output_type": "stream",
          "name": "stdout",
          "text": [
            " Mean absolute error is  0.008674214266996808\n",
            " Mean squared  error is  0.008674214266996808\n",
            " Median absolute error is  0.0\n",
            "Accuracy is  99.13 %\n",
            "F1 score:  98.95 %\n"
          ]
        }
      ]
    },
    {
      "cell_type": "code",
      "source": [
        "X_train_new=X_train[[x for x in feature[feature[\"importance\"]>0].column]]\n",
        "X_test_new=X_test[[x for x in feature[feature[\"importance\"]>0].column]]"
      ],
      "metadata": {
        "id": "uNeL0RvFv1nH"
      },
      "execution_count": null,
      "outputs": []
    },
    {
      "cell_type": "code",
      "source": [
        "import statsmodels.api as sm\n",
        "from statsmodels.stats.outliers_influence import variance_inflation_factor"
      ],
      "metadata": {
        "id": "wLCD2dYVv4do"
      },
      "execution_count": null,
      "outputs": []
    },
    {
      "cell_type": "code",
      "source": [
        "X_train_sm = sm.add_constant(X_train_new)\n",
        "logm = sm.GLM(Y_train, X_train_sm, family = sm.families.Binomial())\n",
        "res = logm.fit()\n",
        "res.summary()"
      ],
      "metadata": {
        "colab": {
          "base_uri": "https://localhost:8080/",
          "height": 648
        },
        "id": "f1UTeM69v8Sq",
        "outputId": "d00b237f-0e24-4ec1-e299-a99614422032"
      },
      "execution_count": null,
      "outputs": [
        {
          "output_type": "stream",
          "name": "stderr",
          "text": [
            "/usr/local/lib/python3.8/dist-packages/statsmodels/tsa/tsatools.py:142: FutureWarning: In a future version of pandas all arguments of concat except for the argument 'objs' will be keyword-only\n",
            "  x = pd.concat(x[::order], 1)\n"
          ]
        },
        {
          "output_type": "execute_result",
          "data": {
            "text/plain": [
              "<class 'statsmodels.iolib.summary.Summary'>\n",
              "\"\"\"\n",
              "                 Generalized Linear Model Regression Results                  \n",
              "==============================================================================\n",
              "Dep. Variable:               is_fraud   No. Observations:              1308936\n",
              "Model:                            GLM   Df Residuals:                  1308921\n",
              "Model Family:                Binomial   Df Model:                           14\n",
              "Link Function:                  logit   Scale:                          1.0000\n",
              "Method:                          IRLS   Log-Likelihood:                -53180.\n",
              "Date:                Fri, 17 Feb 2023   Deviance:                   1.0636e+05\n",
              "Time:                        14:21:21   Pearson chi2:                 6.46e+16\n",
              "No. Iterations:                    12                                         \n",
              "Covariance Type:            nonrobust                                         \n",
              "===========================================================================================\n",
              "                              coef    std err          z      P>|z|      [0.025      0.975]\n",
              "-------------------------------------------------------------------------------------------\n",
              "const                   -6.194e-06   5.51e-07    -11.236      0.000   -7.27e-06   -5.11e-06\n",
              "amt                         0.0209      0.000    110.588      0.000       0.021       0.021\n",
              "category_gas_transport     11.3777      0.132     86.314      0.000      11.119      11.636\n",
              "category_grocery_pos        6.6930      0.096     69.695      0.000       6.505       6.881\n",
              "category_health_fitness    11.0763      0.132     84.195      0.000      10.818      11.334\n",
              "category_travel            11.4040      0.137     83.411      0.000      11.136      11.672\n",
              "category_misc_pos          10.6728      0.133     80.126      0.000      10.412      10.934\n",
              "category_grocery_net       11.0641      0.135     81.677      0.000      10.799      11.330\n",
              "category_personal_care     10.2418      0.131     78.015      0.000       9.984      10.499\n",
              "age                         0.0502      0.001     72.513      0.000       0.049       0.052\n",
              "category_food_dining        8.1145      0.120     67.631      0.000       7.879       8.350\n",
              "category_home               6.3166      0.108     58.604      0.000       6.105       6.528\n",
              "category_kids_pets          8.3122      0.133     62.471      0.000       8.051       8.573\n",
              "city_pop                 4.488e-07   3.57e-08     12.561      0.000    3.79e-07    5.19e-07\n",
              "trans_month                 0.0368      0.005      6.698      0.000       0.026       0.048\n",
              "trans_year                 -0.0051   6.85e-05    -75.156      0.000      -0.005      -0.005\n",
              "===========================================================================================\n",
              "\"\"\""
            ],
            "text/html": [
              "<table class=\"simpletable\">\n",
              "<caption>Generalized Linear Model Regression Results</caption>\n",
              "<tr>\n",
              "  <th>Dep. Variable:</th>       <td>is_fraud</td>     <th>  No. Observations:  </th>   <td>1308936</td> \n",
              "</tr>\n",
              "<tr>\n",
              "  <th>Model:</th>                  <td>GLM</td>       <th>  Df Residuals:      </th>   <td>1308921</td> \n",
              "</tr>\n",
              "<tr>\n",
              "  <th>Model Family:</th>        <td>Binomial</td>     <th>  Df Model:          </th>   <td>    14</td>  \n",
              "</tr>\n",
              "<tr>\n",
              "  <th>Link Function:</th>         <td>logit</td>      <th>  Scale:             </th>  <td>  1.0000</td> \n",
              "</tr>\n",
              "<tr>\n",
              "  <th>Method:</th>                <td>IRLS</td>       <th>  Log-Likelihood:    </th>  <td> -53180.</td> \n",
              "</tr>\n",
              "<tr>\n",
              "  <th>Date:</th>            <td>Fri, 17 Feb 2023</td> <th>  Deviance:          </th> <td>1.0636e+05</td>\n",
              "</tr>\n",
              "<tr>\n",
              "  <th>Time:</th>                <td>14:21:21</td>     <th>  Pearson chi2:      </th>  <td>6.46e+16</td> \n",
              "</tr>\n",
              "<tr>\n",
              "  <th>No. Iterations:</th>         <td>12</td>        <th>                     </th>      <td> </td>    \n",
              "</tr>\n",
              "<tr>\n",
              "  <th>Covariance Type:</th>     <td>nonrobust</td>    <th>                     </th>      <td> </td>    \n",
              "</tr>\n",
              "</table>\n",
              "<table class=\"simpletable\">\n",
              "<tr>\n",
              "             <td></td>                <th>coef</th>     <th>std err</th>      <th>z</th>      <th>P>|z|</th>  <th>[0.025</th>    <th>0.975]</th>  \n",
              "</tr>\n",
              "<tr>\n",
              "  <th>const</th>                   <td>-6.194e-06</td> <td> 5.51e-07</td> <td>  -11.236</td> <td> 0.000</td> <td>-7.27e-06</td> <td>-5.11e-06</td>\n",
              "</tr>\n",
              "<tr>\n",
              "  <th>amt</th>                     <td>    0.0209</td> <td>    0.000</td> <td>  110.588</td> <td> 0.000</td> <td>    0.021</td> <td>    0.021</td>\n",
              "</tr>\n",
              "<tr>\n",
              "  <th>category_gas_transport</th>  <td>   11.3777</td> <td>    0.132</td> <td>   86.314</td> <td> 0.000</td> <td>   11.119</td> <td>   11.636</td>\n",
              "</tr>\n",
              "<tr>\n",
              "  <th>category_grocery_pos</th>    <td>    6.6930</td> <td>    0.096</td> <td>   69.695</td> <td> 0.000</td> <td>    6.505</td> <td>    6.881</td>\n",
              "</tr>\n",
              "<tr>\n",
              "  <th>category_health_fitness</th> <td>   11.0763</td> <td>    0.132</td> <td>   84.195</td> <td> 0.000</td> <td>   10.818</td> <td>   11.334</td>\n",
              "</tr>\n",
              "<tr>\n",
              "  <th>category_travel</th>         <td>   11.4040</td> <td>    0.137</td> <td>   83.411</td> <td> 0.000</td> <td>   11.136</td> <td>   11.672</td>\n",
              "</tr>\n",
              "<tr>\n",
              "  <th>category_misc_pos</th>       <td>   10.6728</td> <td>    0.133</td> <td>   80.126</td> <td> 0.000</td> <td>   10.412</td> <td>   10.934</td>\n",
              "</tr>\n",
              "<tr>\n",
              "  <th>category_grocery_net</th>    <td>   11.0641</td> <td>    0.135</td> <td>   81.677</td> <td> 0.000</td> <td>   10.799</td> <td>   11.330</td>\n",
              "</tr>\n",
              "<tr>\n",
              "  <th>category_personal_care</th>  <td>   10.2418</td> <td>    0.131</td> <td>   78.015</td> <td> 0.000</td> <td>    9.984</td> <td>   10.499</td>\n",
              "</tr>\n",
              "<tr>\n",
              "  <th>age</th>                     <td>    0.0502</td> <td>    0.001</td> <td>   72.513</td> <td> 0.000</td> <td>    0.049</td> <td>    0.052</td>\n",
              "</tr>\n",
              "<tr>\n",
              "  <th>category_food_dining</th>    <td>    8.1145</td> <td>    0.120</td> <td>   67.631</td> <td> 0.000</td> <td>    7.879</td> <td>    8.350</td>\n",
              "</tr>\n",
              "<tr>\n",
              "  <th>category_home</th>           <td>    6.3166</td> <td>    0.108</td> <td>   58.604</td> <td> 0.000</td> <td>    6.105</td> <td>    6.528</td>\n",
              "</tr>\n",
              "<tr>\n",
              "  <th>category_kids_pets</th>      <td>    8.3122</td> <td>    0.133</td> <td>   62.471</td> <td> 0.000</td> <td>    8.051</td> <td>    8.573</td>\n",
              "</tr>\n",
              "<tr>\n",
              "  <th>city_pop</th>                <td> 4.488e-07</td> <td> 3.57e-08</td> <td>   12.561</td> <td> 0.000</td> <td> 3.79e-07</td> <td> 5.19e-07</td>\n",
              "</tr>\n",
              "<tr>\n",
              "  <th>trans_month</th>             <td>    0.0368</td> <td>    0.005</td> <td>    6.698</td> <td> 0.000</td> <td>    0.026</td> <td>    0.048</td>\n",
              "</tr>\n",
              "<tr>\n",
              "  <th>trans_year</th>              <td>   -0.0051</td> <td> 6.85e-05</td> <td>  -75.156</td> <td> 0.000</td> <td>   -0.005</td> <td>   -0.005</td>\n",
              "</tr>\n",
              "</table>"
            ]
          },
          "metadata": {},
          "execution_count": 85
        }
      ]
    },
    {
      "cell_type": "code",
      "source": [
        "vif = pd.DataFrame()\n",
        "vif['Features'] = X_train_new.columns\n",
        "vif['VIF'] = [variance_inflation_factor(X_train_new.values, i) for i in range(X_train_new.shape[1])]\n",
        "vif['VIF'] = round(vif['VIF'], 2)\n",
        "vif = vif.sort_values(by = \"VIF\", ascending = False)\n",
        "vif"
      ],
      "metadata": {
        "colab": {
          "base_uri": "https://localhost:8080/",
          "height": 520
        },
        "id": "BwglxlLNv_bY",
        "outputId": "bd50a7f2-673f-4da0-c996-a77f50040380"
      },
      "execution_count": null,
      "outputs": [
        {
          "output_type": "execute_result",
          "data": {
            "text/plain": [
              "                   Features    VIF\n",
              "14               trans_year  95.11\n",
              "0                       amt  11.03\n",
              "13              trans_month   5.55\n",
              "2      category_grocery_pos   5.48\n",
              "1    category_gas_transport   5.16\n",
              "3   category_health_fitness   2.90\n",
              "4           category_travel   2.44\n",
              "5         category_misc_pos   2.38\n",
              "6      category_grocery_net   1.99\n",
              "7    category_personal_care   1.96\n",
              "9      category_food_dining   1.79\n",
              "10            category_home   1.62\n",
              "11       category_kids_pets   1.57\n",
              "8                       age   1.39\n",
              "12                 city_pop   1.29"
            ],
            "text/html": [
              "\n",
              "  <div id=\"df-adb6ebd6-7e34-46b1-8431-1e7b41949958\">\n",
              "    <div class=\"colab-df-container\">\n",
              "      <div>\n",
              "<style scoped>\n",
              "    .dataframe tbody tr th:only-of-type {\n",
              "        vertical-align: middle;\n",
              "    }\n",
              "\n",
              "    .dataframe tbody tr th {\n",
              "        vertical-align: top;\n",
              "    }\n",
              "\n",
              "    .dataframe thead th {\n",
              "        text-align: right;\n",
              "    }\n",
              "</style>\n",
              "<table border=\"1\" class=\"dataframe\">\n",
              "  <thead>\n",
              "    <tr style=\"text-align: right;\">\n",
              "      <th></th>\n",
              "      <th>Features</th>\n",
              "      <th>VIF</th>\n",
              "    </tr>\n",
              "  </thead>\n",
              "  <tbody>\n",
              "    <tr>\n",
              "      <th>14</th>\n",
              "      <td>trans_year</td>\n",
              "      <td>95.11</td>\n",
              "    </tr>\n",
              "    <tr>\n",
              "      <th>0</th>\n",
              "      <td>amt</td>\n",
              "      <td>11.03</td>\n",
              "    </tr>\n",
              "    <tr>\n",
              "      <th>13</th>\n",
              "      <td>trans_month</td>\n",
              "      <td>5.55</td>\n",
              "    </tr>\n",
              "    <tr>\n",
              "      <th>2</th>\n",
              "      <td>category_grocery_pos</td>\n",
              "      <td>5.48</td>\n",
              "    </tr>\n",
              "    <tr>\n",
              "      <th>1</th>\n",
              "      <td>category_gas_transport</td>\n",
              "      <td>5.16</td>\n",
              "    </tr>\n",
              "    <tr>\n",
              "      <th>3</th>\n",
              "      <td>category_health_fitness</td>\n",
              "      <td>2.90</td>\n",
              "    </tr>\n",
              "    <tr>\n",
              "      <th>4</th>\n",
              "      <td>category_travel</td>\n",
              "      <td>2.44</td>\n",
              "    </tr>\n",
              "    <tr>\n",
              "      <th>5</th>\n",
              "      <td>category_misc_pos</td>\n",
              "      <td>2.38</td>\n",
              "    </tr>\n",
              "    <tr>\n",
              "      <th>6</th>\n",
              "      <td>category_grocery_net</td>\n",
              "      <td>1.99</td>\n",
              "    </tr>\n",
              "    <tr>\n",
              "      <th>7</th>\n",
              "      <td>category_personal_care</td>\n",
              "      <td>1.96</td>\n",
              "    </tr>\n",
              "    <tr>\n",
              "      <th>9</th>\n",
              "      <td>category_food_dining</td>\n",
              "      <td>1.79</td>\n",
              "    </tr>\n",
              "    <tr>\n",
              "      <th>10</th>\n",
              "      <td>category_home</td>\n",
              "      <td>1.62</td>\n",
              "    </tr>\n",
              "    <tr>\n",
              "      <th>11</th>\n",
              "      <td>category_kids_pets</td>\n",
              "      <td>1.57</td>\n",
              "    </tr>\n",
              "    <tr>\n",
              "      <th>8</th>\n",
              "      <td>age</td>\n",
              "      <td>1.39</td>\n",
              "    </tr>\n",
              "    <tr>\n",
              "      <th>12</th>\n",
              "      <td>city_pop</td>\n",
              "      <td>1.29</td>\n",
              "    </tr>\n",
              "  </tbody>\n",
              "</table>\n",
              "</div>\n",
              "      <button class=\"colab-df-convert\" onclick=\"convertToInteractive('df-adb6ebd6-7e34-46b1-8431-1e7b41949958')\"\n",
              "              title=\"Convert this dataframe to an interactive table.\"\n",
              "              style=\"display:none;\">\n",
              "        \n",
              "  <svg xmlns=\"http://www.w3.org/2000/svg\" height=\"24px\"viewBox=\"0 0 24 24\"\n",
              "       width=\"24px\">\n",
              "    <path d=\"M0 0h24v24H0V0z\" fill=\"none\"/>\n",
              "    <path d=\"M18.56 5.44l.94 2.06.94-2.06 2.06-.94-2.06-.94-.94-2.06-.94 2.06-2.06.94zm-11 1L8.5 8.5l.94-2.06 2.06-.94-2.06-.94L8.5 2.5l-.94 2.06-2.06.94zm10 10l.94 2.06.94-2.06 2.06-.94-2.06-.94-.94-2.06-.94 2.06-2.06.94z\"/><path d=\"M17.41 7.96l-1.37-1.37c-.4-.4-.92-.59-1.43-.59-.52 0-1.04.2-1.43.59L10.3 9.45l-7.72 7.72c-.78.78-.78 2.05 0 2.83L4 21.41c.39.39.9.59 1.41.59.51 0 1.02-.2 1.41-.59l7.78-7.78 2.81-2.81c.8-.78.8-2.07 0-2.86zM5.41 20L4 18.59l7.72-7.72 1.47 1.35L5.41 20z\"/>\n",
              "  </svg>\n",
              "      </button>\n",
              "      \n",
              "  <style>\n",
              "    .colab-df-container {\n",
              "      display:flex;\n",
              "      flex-wrap:wrap;\n",
              "      gap: 12px;\n",
              "    }\n",
              "\n",
              "    .colab-df-convert {\n",
              "      background-color: #E8F0FE;\n",
              "      border: none;\n",
              "      border-radius: 50%;\n",
              "      cursor: pointer;\n",
              "      display: none;\n",
              "      fill: #1967D2;\n",
              "      height: 32px;\n",
              "      padding: 0 0 0 0;\n",
              "      width: 32px;\n",
              "    }\n",
              "\n",
              "    .colab-df-convert:hover {\n",
              "      background-color: #E2EBFA;\n",
              "      box-shadow: 0px 1px 2px rgba(60, 64, 67, 0.3), 0px 1px 3px 1px rgba(60, 64, 67, 0.15);\n",
              "      fill: #174EA6;\n",
              "    }\n",
              "\n",
              "    [theme=dark] .colab-df-convert {\n",
              "      background-color: #3B4455;\n",
              "      fill: #D2E3FC;\n",
              "    }\n",
              "\n",
              "    [theme=dark] .colab-df-convert:hover {\n",
              "      background-color: #434B5C;\n",
              "      box-shadow: 0px 1px 3px 1px rgba(0, 0, 0, 0.15);\n",
              "      filter: drop-shadow(0px 1px 2px rgba(0, 0, 0, 0.3));\n",
              "      fill: #FFFFFF;\n",
              "    }\n",
              "  </style>\n",
              "\n",
              "      <script>\n",
              "        const buttonEl =\n",
              "          document.querySelector('#df-adb6ebd6-7e34-46b1-8431-1e7b41949958 button.colab-df-convert');\n",
              "        buttonEl.style.display =\n",
              "          google.colab.kernel.accessAllowed ? 'block' : 'none';\n",
              "\n",
              "        async function convertToInteractive(key) {\n",
              "          const element = document.querySelector('#df-adb6ebd6-7e34-46b1-8431-1e7b41949958');\n",
              "          const dataTable =\n",
              "            await google.colab.kernel.invokeFunction('convertToInteractive',\n",
              "                                                     [key], {});\n",
              "          if (!dataTable) return;\n",
              "\n",
              "          const docLinkHtml = 'Like what you see? Visit the ' +\n",
              "            '<a target=\"_blank\" href=https://colab.research.google.com/notebooks/data_table.ipynb>data table notebook</a>'\n",
              "            + ' to learn more about interactive tables.';\n",
              "          element.innerHTML = '';\n",
              "          dataTable['output_type'] = 'display_data';\n",
              "          await google.colab.output.renderOutput(dataTable, element);\n",
              "          const docLink = document.createElement('div');\n",
              "          docLink.innerHTML = docLinkHtml;\n",
              "          element.appendChild(docLink);\n",
              "        }\n",
              "      </script>\n",
              "    </div>\n",
              "  </div>\n",
              "  "
            ]
          },
          "metadata": {},
          "execution_count": 86
        }
      ]
    },
    {
      "cell_type": "code",
      "source": [
        "#x_train_vif_adj = X_train_new[[x for x in list(vif[vif['VIF']<=5]['Features'])]]\n",
        "x_train_vif_adj = X_train_new\n",
        "#x_test_vif_adj = X_test_new[[x for x in list(vif[vif['VIF']<=5]['Features'])]]\n",
        "x_test_vif_adj = X_test_new"
      ],
      "metadata": {
        "id": "LGBKvmXzwBcD"
      },
      "execution_count": null,
      "outputs": []
    },
    {
      "cell_type": "code",
      "source": [
        "sc= StandardScaler()\n",
        "X_train_vif_adj_std=sc.fit_transform(x_train_vif_adj)\n",
        "X_test_vif_adj_std = sc.fit_transform(x_test_vif_adj)"
      ],
      "metadata": {
        "id": "88FcbmkRwDhu"
      },
      "execution_count": null,
      "outputs": []
    },
    {
      "cell_type": "code",
      "source": [
        "Logit2=LogisticRegression(solver='liblinear')\n",
        "\n",
        "Logit2.fit(X_train_vif_adj_std,Y_train)\n",
        "\n",
        "print(\"Score of the model with X-train and Y-train is : \", str(round(Logit2.score(X_train_vif_adj_std,Y_train)*100,2)),\"%\")\n",
        "print(\"Score of the model with X-test and Y-test is : \", str(round(Logit2.score(X_test_vif_adj_std,Y_test)*100,2)),\"%\")\n",
        "\n",
        "Y_pred=Logit2.predict(X_test_vif_adj_std)\n",
        "\n",
        "print( \" Mean absolute error is \",( mean_absolute_error(Y_test,Y_pred)))\n",
        "print(\" Mean squared  error is \" , mean_squared_error(Y_test,Y_pred))\n",
        "print(\" Median absolute error is \" ,median_absolute_error(Y_test,Y_pred)) \n",
        "print(\"Accuracy is \" , round(accuracy_score(Y_test,Y_pred)*100,2),\"%\")\n",
        "print(\"F1 score: \", round(f1_score(Y_test, Y_pred, average='weighted')*100,2),\"%\")"
      ],
      "metadata": {
        "colab": {
          "base_uri": "https://localhost:8080/"
        },
        "id": "plbH4WDEwFd9",
        "outputId": "1cefda04-bbc0-4e56-dadf-16608ce62738"
      },
      "execution_count": null,
      "outputs": [
        {
          "output_type": "stream",
          "name": "stdout",
          "text": [
            "Score of the model with X-train and Y-train is :  99.09 %\n",
            "Score of the model with X-test and Y-test is :  99.11 %\n",
            " Mean absolute error is  0.008936258964335182\n",
            " Mean squared  error is  0.008936258964335182\n",
            " Median absolute error is  0.0\n",
            "Accuracy is  99.11 %\n",
            "F1 score:  98.91 %\n"
          ]
        }
      ]
    },
    {
      "cell_type": "code",
      "source": [
        "matrix = confusion_matrix(Y_test,Y_pred, labels=[1,0])\n",
        "print('Confusion matrix : \\n',matrix)\n",
        "\n",
        "\n",
        "tp, fn, fp, tn = confusion_matrix(Y_test,Y_pred,labels=[1,0]).reshape(-1)\n",
        "print('Outcome values : \\n', tp, fn, fp, tn)\n",
        "\n",
        "\n",
        "matrix = classification_report(Y_test,Y_pred,labels=[1,0])\n",
        "print('Classification report : \\n',matrix)"
      ],
      "metadata": {
        "colab": {
          "base_uri": "https://localhost:8080/"
        },
        "id": "lq6FGFIHwJTY",
        "outputId": "0e554c1c-8e13-4fd3-bdf1-91b06d087a3f"
      },
      "execution_count": null,
      "outputs": [
        {
          "output_type": "stream",
          "name": "stdout",
          "text": [
            "Confusion matrix : \n",
            " [[552905      0]\n",
            " [  5013   3055]]\n",
            "Outcome values : \n",
            " 552905 0 5013 3055\n",
            "Classification report : \n",
            "               precision    recall  f1-score   support\n",
            "\n",
            "           1       0.99      1.00      1.00    552905\n",
            "           0       1.00      0.38      0.55      8068\n",
            "\n",
            "    accuracy                           0.99    560973\n",
            "   macro avg       1.00      0.69      0.77    560973\n",
            "weighted avg       0.99      0.99      0.99    560973\n",
            "\n"
          ]
        }
      ]
    },
    {
      "cell_type": "code",
      "source": [
        "plot_roc_curve(Logit2, X_test_vif_adj_std, Y_test)\n",
        "plt.show()"
      ],
      "metadata": {
        "colab": {
          "base_uri": "https://localhost:8080/",
          "height": 334
        },
        "id": "jX6XJRqNwL8z",
        "outputId": "f31d9b17-2b7c-4130-80fe-079243fda5eb"
      },
      "execution_count": null,
      "outputs": [
        {
          "output_type": "stream",
          "name": "stderr",
          "text": [
            "/usr/local/lib/python3.8/dist-packages/sklearn/utils/deprecation.py:87: FutureWarning: Function plot_roc_curve is deprecated; Function :func:`plot_roc_curve` is deprecated in 1.0 and will be removed in 1.2. Use one of the class methods: :meth:`sklearn.metric.RocCurveDisplay.from_predictions` or :meth:`sklearn.metric.RocCurveDisplay.from_estimator`.\n",
            "  warnings.warn(msg, category=FutureWarning)\n"
          ]
        },
        {
          "output_type": "display_data",
          "data": {
            "text/plain": [
              "<Figure size 432x288 with 1 Axes>"
            ],
            "image/png": "[encoded data removed]"
          },
          "metadata": {
            "needs_background": "light"
          }
        }
      ]
    },
    {
      "cell_type": "code",
      "source": [
        "dtc = DecisionTreeClassifier()\n",
        "dtc.fit(X_train,Y_train)"
      ],
      "metadata": {
        "colab": {
          "base_uri": "https://localhost:8080/"
        },
        "id": "XaoeDPGEwOB5",
        "outputId": "75f83882-df31-407d-d75a-0eee4de0aa2f"
      },
      "execution_count": null,
      "outputs": [
        {
          "output_type": "execute_result",
          "data": {
            "text/plain": [
              "DecisionTreeClassifier()"
            ]
          },
          "metadata": {},
          "execution_count": 92
        }
      ]
    },
    {
      "cell_type": "code",
      "source": [
        "importance = dtc.feature_importances_\n",
        "for i,v in enumerate(importance):\n",
        "    print(X_train.columns[int(i)],\"- \",v)\n",
        "plt.bar([x for x in range(len(importance))], importance)\n",
        "plt.show()"
      ],
      "metadata": {
        "colab": {
          "base_uri": "https://localhost:8080/",
          "height": 630
        },
        "id": "HioufciQwQ67",
        "outputId": "7707d2a2-e73c-485c-ad53-9fa756aab9b8"
      },
      "execution_count": null,
      "outputs": [
        {
          "output_type": "stream",
          "name": "stdout",
          "text": [
            "amt -  0.2528873688918179\n",
            "gender -  0.0003721789001514852\n",
            "city_pop -  0.013322382298746813\n",
            "age -  0.20734481974571725\n",
            "trans_month -  0.0002656353714492512\n",
            "trans_year -  0.0021735608261873097\n",
            "latitudinal_distance -  0.042364416164752866\n",
            "longitudinal_distance -  0.010795240632978459\n",
            "category_food_dining -  0.18757768993663523\n",
            "category_gas_transport -  0.0007701345070662265\n",
            "category_grocery_net -  0.00015890984895636183\n",
            "category_grocery_pos -  0.07486650129440629\n",
            "category_health_fitness -  0.0010619244755301434\n",
            "category_home -  0.07694589355680471\n",
            "category_kids_pets -  0.002593316773019707\n",
            "category_misc_net -  0.019015924973152416\n",
            "category_misc_pos -  0.010924724676745915\n",
            "category_personal_care -  0.009079126284578198\n",
            "category_shopping_net -  0.03885784266267663\n",
            "category_shopping_pos -  0.045172166657661945\n",
            "category_travel -  0.0034502415209649953\n"
          ]
        },
        {
          "output_type": "display_data",
          "data": {
            "text/plain": [
              "<Figure size 432x288 with 1 Axes>"
            ],
            "image/png": "[encoded data removed]"
          },
          "metadata": {
            "needs_background": "light"
          }
        }
      ]
    },
    {
      "cell_type": "code",
      "source": [
        "print(\"Score the X-train with Y-train is : \", dtc.score(X_train,Y_train))\n",
        "print(\"Score the X-test  with Y-test  is : \", dtc.score(X_test,Y_test))\n",
        "\n",
        "Y_pred=dtc.predict(X_test)\n",
        "\n",
        "print( \" Mean absolute error is \", mean_absolute_error(Y_test,Y_pred))\n",
        "print(\" Mean squared  error is \" , mean_squared_error(Y_test,Y_pred))\n",
        "print(\" Median absolute error is \" ,median_absolute_error(Y_test,Y_pred)) \n",
        "print(\"Accuracy score \" , accuracy_score(Y_test,Y_pred))\n",
        "print(\"F1 score: \", round(f1_score(Y_test, Y_pred, average='weighted')*100,2),\"%\")"
      ],
      "metadata": {
        "colab": {
          "base_uri": "https://localhost:8080/"
        },
        "id": "n9kOWxiKwTCv",
        "outputId": "2851f109-53af-42b9-d6c6-7a7a4151a3bd"
      },
      "execution_count": null,
      "outputs": [
        {
          "output_type": "stream",
          "name": "stdout",
          "text": [
            "Score the X-train with Y-train is :  1.0\n",
            "Score the X-test  with Y-test  is :  0.999982173830113\n",
            " Mean absolute error is  1.7826169886964256e-05\n",
            " Mean squared  error is  1.7826169886964256e-05\n",
            " Median absolute error is  0.0\n",
            "Accuracy score  0.999982173830113\n",
            "F1 score:  100.0 %\n"
          ]
        }
      ]
    },
    {
      "cell_type": "code",
      "source": [
        "dtc1 = DecisionTreeClassifier()\n",
        "\n",
        "params_dtc = {\n",
        "    'max_depth': [10, 20, 50, 100, 200],\n",
        "    'min_samples_leaf': [10, 20, 50, 100, 200],\n",
        "    'min_samples_split' : [10, 20, 50, 100, 200],\n",
        "    'criterion': [\"gini\", \"entropy\"]\n",
        "} \n",
        "\n",
        "halving_random_search=HalvingRandomSearchCV(estimator=dtc1,param_distributions = params_dtc,cv=5)\n",
        "halving_random_search.fit(X_train,Y_train)\n",
        "print(halving_random_search.best_params_)"
      ],
      "metadata": {
        "colab": {
          "base_uri": "https://localhost:8080/"
        },
        "id": "0TH7jr0FwWmZ",
        "outputId": "fb13fb8e-96b5-467e-bb2b-ccc4593ec58c"
      },
      "execution_count": null,
      "outputs": [
        {
          "output_type": "stream",
          "name": "stderr",
          "text": [
            "/usr/local/lib/python3.8/dist-packages/sklearn/model_selection/_search.py:292: UserWarning: The total space of parameters 250 is smaller than n_iter=65446. Running 250 iterations. For exhaustive searches, use GridSearchCV.\n",
            "  warnings.warn(\n"
          ]
        },
        {
          "output_type": "stream",
          "name": "stdout",
          "text": [
            "{'min_samples_split': 100, 'min_samples_leaf': 10, 'max_depth': 200, 'criterion': 'gini'}\n"
          ]
        }
      ]
    },
    {
      "cell_type": "code",
      "source": [
        "print(halving_random_search.best_params_)"
      ],
      "metadata": {
        "colab": {
          "base_uri": "https://localhost:8080/"
        },
        "id": "PDGl6jwNwiE_",
        "outputId": "b7882438-666e-4426-ddce-3e249d717361"
      },
      "execution_count": null,
      "outputs": [
        {
          "output_type": "stream",
          "name": "stdout",
          "text": [
            "{'min_samples_split': 100, 'min_samples_leaf': 10, 'max_depth': 200, 'criterion': 'gini'}\n"
          ]
        }
      ]
    },
    {
      "cell_type": "code",
      "source": [
        "dtc2 = DecisionTreeClassifier(min_samples_split= 100, min_samples_leaf= 20, max_depth= 200, criterion= 'gini')\n",
        "dtc2.fit(X_train,Y_train)"
      ],
      "metadata": {
        "colab": {
          "base_uri": "https://localhost:8080/"
        },
        "id": "2SIWjXDpwozC",
        "outputId": "e900f797-6345-4e08-a992-1c9629d26866"
      },
      "execution_count": null,
      "outputs": [
        {
          "output_type": "execute_result",
          "data": {
            "text/plain": [
              "DecisionTreeClassifier(max_depth=200, min_samples_leaf=20,\n",
              "                       min_samples_split=100)"
            ]
          },
          "metadata": {},
          "execution_count": 97
        }
      ]
    },
    {
      "cell_type": "code",
      "source": [
        "print(\"Score the X-train with Y-train is : \", dtc2.score(X_train,Y_train))\n",
        "print(\"Score the X-test  with Y-test  is : \", dtc2.score(X_test,Y_test))\n",
        "\n",
        "Y_pred=dtc2.predict(X_test)\n",
        "\n",
        "print( \" Mean absolute error is \", mean_absolute_error(Y_test,Y_pred))\n",
        "print(\" Mean squared  error is \" , mean_squared_error(Y_test,Y_pred))\n",
        "print(\" Median absolute error is \" ,median_absolute_error(Y_test,Y_pred)) \n",
        "print(\"Accuracy score \" , accuracy_score(Y_test,Y_pred))\n",
        "print(\"F1 score: \", round(f1_score(Y_test, Y_pred, average='weighted')*100,2),\"%\")"
      ],
      "metadata": {
        "colab": {
          "base_uri": "https://localhost:8080/"
        },
        "id": "FaA2CT3bwqv1",
        "outputId": "ebae30cb-2103-4c1c-cfbc-ef2dc7dda772"
      },
      "execution_count": null,
      "outputs": [
        {
          "output_type": "stream",
          "name": "stdout",
          "text": [
            "Score the X-train with Y-train is :  0.9999633289939309\n",
            "Score the X-test  with Y-test  is :  0.9999500867243165\n",
            " Mean absolute error is  4.991327568349992e-05\n",
            " Mean squared  error is  4.991327568349992e-05\n",
            " Median absolute error is  0.0\n",
            "Accuracy score  0.9999500867243165\n",
            "F1 score:  100.0 %\n"
          ]
        }
      ]
    },
    {
      "cell_type": "code",
      "source": [
        "matrix = confusion_matrix(Y_test,Y_pred, labels=[1,0])\n",
        "print('Confusion matrix : \\n',matrix)\n",
        "\n",
        "\n",
        "tp, fn, fp, tn = confusion_matrix(Y_test,Y_pred,labels=[1,0]).reshape(-1)\n",
        "print('Outcome values : \\n', tp, fn, fp, tn)\n",
        "\n",
        "\n",
        "matrix = classification_report(Y_test,Y_pred,labels=[1,0])\n",
        "print('Classification report : \\n',matrix)"
      ],
      "metadata": {
        "colab": {
          "base_uri": "https://localhost:8080/"
        },
        "id": "w9Kxrle3wtSp",
        "outputId": "9d71c33b-8a7a-4c4d-9d83-8bcb4cafc109"
      },
      "execution_count": null,
      "outputs": [
        {
          "output_type": "stream",
          "name": "stdout",
          "text": [
            "Confusion matrix : \n",
            " [[552905      0]\n",
            " [    28   8040]]\n",
            "Outcome values : \n",
            " 552905 0 28 8040\n",
            "Classification report : \n",
            "               precision    recall  f1-score   support\n",
            "\n",
            "           1       1.00      1.00      1.00    552905\n",
            "           0       1.00      1.00      1.00      8068\n",
            "\n",
            "    accuracy                           1.00    560973\n",
            "   macro avg       1.00      1.00      1.00    560973\n",
            "weighted avg       1.00      1.00      1.00    560973\n",
            "\n"
          ]
        }
      ]
    },
    {
      "cell_type": "code",
      "source": [
        "plot_roc_curve(dtc2, X_test, Y_test)\n",
        "plt.show()"
      ],
      "metadata": {
        "colab": {
          "base_uri": "https://localhost:8080/",
          "height": 334
        },
        "id": "BuSlLRZKwwu-",
        "outputId": "9d0623d7-fa34-42a3-f829-a7d9c6b79e8a"
      },
      "execution_count": null,
      "outputs": [
        {
          "output_type": "stream",
          "name": "stderr",
          "text": [
            "/usr/local/lib/python3.8/dist-packages/sklearn/utils/deprecation.py:87: FutureWarning: Function plot_roc_curve is deprecated; Function :func:`plot_roc_curve` is deprecated in 1.0 and will be removed in 1.2. Use one of the class methods: :meth:`sklearn.metric.RocCurveDisplay.from_predictions` or :meth:`sklearn.metric.RocCurveDisplay.from_estimator`.\n",
            "  warnings.warn(msg, category=FutureWarning)\n"
          ]
        },
        {
          "output_type": "display_data",
          "data": {
            "text/plain": [
              "<Figure size 432x288 with 1 Axes>"
            ],
            "image/png": "[encoded data removed]"
          },
          "metadata": {
            "needs_background": "light"
          }
        }
      ]
    },
    {
      "cell_type": "code",
      "source": [],
      "metadata": {
        "id": "vePdiP7bwz87"
      },
      "execution_count": null,
      "outputs": []
    }
  ]
}